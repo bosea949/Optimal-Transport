{
 "cells": [
  {
   "cell_type": "markdown",
   "metadata": {},
   "source": [
    "Entropic Regularization of Optimal Transport\n",
    "============================================\n",
    "\n",
    "*Important:* Please read the [installation page](http://gpeyre.github.io/numerical-tours/installation_matlab/) for details about how to install the toolboxes."
   ]
  },
  {
   "cell_type": "markdown",
   "metadata": {},
   "source": [
    "This numerical tours exposes the general methodology of regularizing the\n",
    "optimal transport (OT) linear program using entropy. This allows to\n",
    "derive fast computation algorithm based on iterative projections\n",
    "according to a Kulback-Leiber divergence."
   ]
  },
  {
   "cell_type": "code",
   "execution_count": null,
   "metadata": {},
   "outputs": [],
   "source": [
    "from __future__ import division\n",
    "\n",
    "import numpy as np\n",
    "\n",
    "import matplotlib.pyplot as plt\n",
    "import scipy as scp\n",
    "import pylab as pyl\n",
    "\n",
    "import warnings\n",
    "warnings.filterwarnings('ignore')\n",
    "\n",
    "%matplotlib inline\n",
    "%load_ext autoreload\n",
    "%autoreload 2"
   ]
  },
  {
   "cell_type": "markdown",
   "metadata": {},
   "source": [
    "### Helpers"
   ]
  },
  {
   "cell_type": "code",
   "execution_count": null,
   "metadata": {},
   "outputs": [],
   "source": [
    "\"\"\"To compute distance matrix\"\"\"\n",
    "def distmat(x,y):\n",
    "    \n",
    "    return np.sum(x**2,0)[:,None] + np.sum(y**2,0)[None,:] - 2*x.transpose().dot(y)\n",
    "\n",
    "\"\"\"To Normalise a vector\"\"\"\n",
    "normalize = lambda a: a/np.sum(a)\n",
    "\n",
    "\"\"\"To Compute P\"\"\"\n",
    "def GetP(u,K,v):\n",
    "    return u*K*(v.T)"
   ]
  },
  {
   "cell_type": "code",
   "execution_count": null,
   "metadata": {},
   "outputs": [],
   "source": [
    "N=[400,400]"
   ]
  },
  {
   "cell_type": "code",
   "execution_count": null,
   "metadata": {},
   "outputs": [],
   "source": [
    "x=np.random.rand(2,N[0])-0.5\n",
    "theta =2*np.pi*np.random.rand(1,N[1])\n",
    "r=0.8+.2*np.random.rand(1,N[1])\n",
    "y=np.vstack((r*np.cos(theta),r*np.sin(theta)))"
   ]
  },
  {
   "cell_type": "code",
   "execution_count": null,
   "metadata": {},
   "outputs": [],
   "source": [
    "def plotp(x, col,plt, scale=200, edgecolors=\"k\"):\n",
    "  return plt.scatter(x[0,:], x[1,:], s=scale, edgecolors=edgecolors,  c=col, cmap='plasma', linewidths=2)"
   ]
  },
  {
   "cell_type": "code",
   "execution_count": null,
   "metadata": {},
   "outputs": [],
   "source": [
    "\n",
    "plt.figure(figsize=(10,10))\n",
    "\n",
    "plotp(x, 'b',plt)\n",
    "plotp(y, 'r',plt)\n",
    "\n",
    "plt.axis(\"off\")\n",
    "plt.xlim(np.min(y[0,:])-.1,np.max(y[0,:])+.1)\n",
    "plt.ylim(np.min(y[1,:])-.1,np.max(y[1,:])+.1)\n",
    "\n",
    "plt.show()"
   ]
  },
  {
   "cell_type": "code",
   "execution_count": null,
   "metadata": {},
   "outputs": [],
   "source": [
    "C = distmat(x,y)"
   ]
  },
  {
   "cell_type": "code",
   "execution_count": null,
   "metadata": {},
   "outputs": [],
   "source": [
    "a = np.ones(N[0])/N[0]\n",
    "b = np.ones(N[1])/N[1]"
   ]
  },
  {
   "cell_type": "code",
   "execution_count": null,
   "metadata": {},
   "outputs": [],
   "source": [
    "import computational_OT"
   ]
  },
  {
   "cell_type": "code",
   "execution_count": null,
   "metadata": {},
   "outputs": [],
   "source": [
    "epsilon = .01\n",
    "K = np.exp(-C/epsilon)\n",
    "u=np.ones(N[0])\n",
    "v = np.ones(N[1])\n",
    "\n",
    "\n",
    "\n",
    "SOptimizer=computational_OT.Sinkhorn(K,a,b,u,v,epsilon)\n",
    "out=SOptimizer._update(maxiter=1000)\n",
    "#\n",
    "# Plot\n",
    "plt.figure(figsize = (12,12))\n",
    "\n",
    "plt.subplot(2,1,1),\n",
    "plt.title(\"$||P1 -a||_1$\")\n",
    "plt.plot( np.asarray(out[2]), linewidth = 2)\n",
    "plt.yscale( 'log')\n",
    "plt.ylabel(\"Error in log scale\")\n",
    "plt.xlabel(\"Number of iterations\")\n",
    "plt.legend([\"Sample size: \"+str(i)+\" and Epsilon=\"+str(epsilon) for i in N],loc=\"upper right\")\n",
    "\n",
    "plt.subplot(2,1,2)\n",
    "plt.title(\"$||P^T 1 -b||_1$\")\n",
    "plt.plot( np.asarray(out[3]), linewidth = 2)\n",
    "plt.yscale( 'log')\n",
    "plt.ylabel(\"Error in log scale\")\n",
    "plt.xlabel(\"Number of iterations\")\n",
    "plt.legend([\"Sample size: \"+str(i)+\" and Epsilon=\"+str(epsilon) for i in N],loc=\"upper right\")\n",
    "plt.show()"
   ]
  },
  {
   "cell_type": "code",
   "execution_count": null,
   "metadata": {},
   "outputs": [],
   "source": [
    "epsilon = .01\n",
    "K = np.exp(-C/epsilon)\n",
    "u=np.ones(N[0])\n",
    "v = np.ones(N[1])\n",
    "\n",
    "\n",
    "SOptimizer=computational_OT.Sinkhorn(K,a,b,u,v,epsilon)\n",
    "outS=SOptimizer._update(maxiter=100)\n",
    "\n",
    "\n",
    "X = np.hstack( (outS[0],outS[1]) )\n",
    "X = epsilon*np.log(X)\n",
    "NOptimizer=computational_OT.NewtonRaphson(X,K,a,b,epsilon)\n",
    "outN=NOptimizer._update(maxiter=10, debug=False)"
   ]
  },
  {
   "cell_type": "code",
   "execution_count": null,
   "metadata": {},
   "outputs": [],
   "source": [
    "# Plot\n",
    "plt.figure(figsize = (12,6))\n",
    "\n",
    "#plt.subplot(2,1,1),\n",
    "plt.title(\"$||P1 -a||_1 + ||P^T 1 -b||_1$\")\n",
    "error_sinkhorn = np.asarray(out[2]) + np.asarray(out[3])\n",
    "error_hybrid   = np.asarray(outS[2]+outN[0]) + np.asarray(outS[3]+outN[1])\n",
    "plt.plot( error_sinkhorn, label='Sinkhorn for $\\epsilon=$' + str(epsilon), linewidth = 2)\n",
    "plt.plot( error_hybrid,label='Hybrid method for $\\epsilon=$'+ str(epsilon), linewidth = 2)\n",
    "plt.xlabel(\"Number of iterations\")\n",
    "plt.ylabel(\"Error in log-scale\")\n",
    "plt.legend()\n",
    "plt.yscale( 'log')\n",
    "plt.show()"
   ]
  },
  {
   "cell_type": "code",
   "execution_count": null,
   "metadata": {},
   "outputs": [],
   "source": [
    "P = np.dot(np.dot(np.diag(outS[0]),K),np.diag(outS[1]))\n",
    "Q1 = np.sort(P, axis=0)\n",
    "Q2 = np.sort(P, axis=1)\n",
    "\n",
    "plt.figure()\n",
    "plt.imshow(P);\n",
    "plt.figure()\n",
    "plt.imshow(Q1);\n",
    "plt.figure()\n",
    "plt.imshow(Q2);"
   ]
  },
  {
   "cell_type": "markdown",
   "metadata": {},
   "source": [
    "## Experiments for different epsilons"
   ]
  },
  {
   "cell_type": "code",
   "execution_count": null,
   "metadata": {},
   "outputs": [],
   "source": [
    "\n",
    "\n",
    "epsilons=[0.01,0.05,0.1,0.15,0.2,0.25,0.3,0.35,0.4,0.45,0.5]\n",
    "n=len(epsilons)\n",
    "outS={}\n",
    "outN={}\n",
    "P={}\n",
    "Q1={}\n",
    "Q2={}\n",
    "for i in range(n):\n",
    "    K = np.exp(-C/epsilons[i])\n",
    "    u=np.ones(N[0])\n",
    "    v=np.ones(N[1])\n",
    "\n",
    "    SOptimizer=computational_OT.Sinkhorn(K,a,b,u,v,epsilons[i])\n",
    "    out1=SOptimizer._update(maxiter=100)\n",
    "    outS[i]=out1\n",
    "\n",
    "    X = np.hstack( (outS[i][0],outS[i][1]) )\n",
    "    X = epsilons[i]*np.log(X)\n",
    "    NOptimizer=computational_OT.NewtonRaphson(X,K,a,b,epsilons[i])\n",
    "    out2=NOptimizer._update(maxiter=10, debug=False)\n",
    "    outN[i]=out2\n",
    "    \n",
    "    \n",
    "    P[i] = np.dot(np.dot(np.diag(out1[0]),K),np.diag(out1[1]))\n",
    "    Q1[i] = np.sort(P[i], axis=0)\n",
    "    Q2[i] = np.sort(P[i], axis=1)\n",
    "\n",
    "    plt.title(\"P histogram for epsilon: \"+str(epsilons[i]))\n",
    "    plt.hist( P[i].flatten(), 20)\n",
    "    \n",
    "    plt.xscale( 'log')\n",
    "    plt.yscale( 'log')\n",
    "    plt.show()\n",
    "    \n",
    "    fig,ax=plt.subplots(figsize=(20,5),nrows=1,ncols=3)\n",
    "    ax[0].set_title(\"P and e: \"+ str(epsilons[i]))\n",
    "    ax[0].imshow(P[i]);\n",
    "    ax[1].set_title(\"Q1 and e: \"+ str(epsilons[i]))\n",
    "    ax[1].imshow(Q1[i]);\n",
    "    ax[2].set_title(\"Q2 and e: \"+ str(epsilons[i]))\n",
    "    ax[2].imshow(Q2[i]);\n",
    "    plt.show()\n",
    "    \n",
    "    fig,ax=plt.subplots(figsize=(20,5),nrows=1,ncols=4)\n",
    "    P_xx = np.dot(P[i], P[i].T)\n",
    "    P_yy = np.dot(P[i].T, P[i])\n",
    "    ax[0].set_title(\"P_xx and e: \"+str(epsilons[i]))\n",
    "    ax[0].imshow(P_xx)\n",
    "    ax[1].set_title(\"P_yy and e: \"+str(epsilons[i]))\n",
    "    ax[1].imshow(P_yy)\n",
    "\n",
    "\n",
    "    ax[2].set_title(\"P_xx flattened and e: \"+str(epsilons[i]))\n",
    "    ax[2].hist( P_xx.flatten(), 20, cumulative=False)\n",
    "    ax[2].set_xscale(\"log\")\n",
    "    ax[2].set_yscale(\"log\")\n",
    "    \n",
    "    ax[3].set_title(\"P_yy flattened and e: \"+str(epsilons[i]))\n",
    "    ax[3].hist( P_yy.flatten(), 20, cumulative=False)\n",
    "    ax[3].set_xscale(\"log\")\n",
    "    ax[3].set_yscale(\"log\")\n",
    "    plt.show()\n",
    "\n",
    "    print(\"\\n \\n\")\n",
    "    "
   ]
  },
  {
   "cell_type": "markdown",
   "metadata": {},
   "source": [
    "## Cuthill Mckee"
   ]
  },
  {
   "cell_type": "code",
   "execution_count": null,
   "metadata": {},
   "outputs": [],
   "source": [
    "cutoff_x=[1e-10,1e-8,1e-9,1e-9,1e-9,1e-8,1e-9,1e-9,1e-8,1e-8,1e-8]\n",
    "cutoff_y=[1e-7,1e-8,1e-9,1e-9,1e-8,1e-8,1e-8,1e-8,1e-8,1e-8,1e-8]\n",
    "for i in range(n):\n",
    "     \n",
    "    CuthillMckee=computational_OT._Expcuthill_mckee(P[i])\n",
    "    CuthillMckee._evaluate(cut_offx=cutoff_x[i],cut_offy=cutoff_y[i],epsilon=epsilons[i])\n"
   ]
  },
  {
   "cell_type": "markdown",
   "metadata": {},
   "source": [
    "## Errors for different epsilons"
   ]
  },
  {
   "cell_type": "code",
   "execution_count": null,
   "metadata": {},
   "outputs": [],
   "source": [
    "# Plot\n",
    "plt.figure(figsize = (15,6))\n",
    "\n",
    "#plt.subplot(2,1,1),\n",
    "plt.title(\"$||P1 -a||_1 + ||P^T 1 -b||_1$\")\n",
    "for i in range(n):\n",
    "    error_hybrid   = np.asarray(outS[i][2]+outN[i][0]) + np.asarray(outS[i][3]+outN[i][1])\n",
    "    plt.plot( error_hybrid,label='Hybrid method for $\\epsilon=$'+ str(epsilons[i]), linewidth = 2)\n",
    "\n",
    "plt.xlabel(\"Number of iterations\")\n",
    "plt.ylabel(\"Error in log-scale\")\n",
    "plt.legend()\n",
    "plt.yscale( 'log')\n",
    "plt.show()"
   ]
  },
  {
   "cell_type": "code",
   "execution_count": null,
   "metadata": {},
   "outputs": [],
   "source": []
  }
 ],
 "metadata": {
  "kernelspec": {
   "display_name": "Python 3.7.6 ('.venv_computational-OT': venv)",
   "language": "python",
   "name": "python3"
  },
  "language_info": {
   "codemirror_mode": {
    "name": "ipython",
    "version": 3
   },
   "file_extension": ".py",
   "mimetype": "text/x-python",
   "name": "python",
   "nbconvert_exporter": "python",
   "pygments_lexer": "ipython3",
   "version": "3.7.6"
  },
  "vscode": {
   "interpreter": {
    "hash": "75f246988ec4f21131973b50967f69fae3637271f5aa66bb961d71fec43f87c6"
   }
  }
 },
 "nbformat": 4,
 "nbformat_minor": 1
}
