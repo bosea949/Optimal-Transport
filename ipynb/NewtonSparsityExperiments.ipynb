{
 "cells": [
  {
   "cell_type": "markdown",
   "metadata": {},
   "source": [
    "Entropic Regularization of Optimal Transport\n",
    "============================================\n",
    "\n",
    "*Important:* Please read the [installation page](http://gpeyre.github.io/numerical-tours/installation_matlab/) for details about how to install the toolboxes."
   ]
  },
  {
   "cell_type": "markdown",
   "metadata": {},
   "source": [
    "This numerical tours exposes the general methodology of regularizing the\n",
    "optimal transport (OT) linear program using entropy. This allows to\n",
    "derive fast computation algorithm based on iterative projections\n",
    "according to a Kulback-Leiber divergence."
   ]
  },
  {
   "cell_type": "code",
   "execution_count": null,
   "metadata": {},
   "outputs": [],
   "source": [
    "from __future__ import division\n",
    "\n",
    "import numpy as np\n",
    "import time\n",
    "import matplotlib.pyplot as plt\n",
    "import scipy as scp\n",
    "import pylab as pyl\n",
    "\n",
    "import warnings\n",
    "warnings.filterwarnings('ignore')\n",
    "np.random.seed(1234)\n",
    "\n",
    "%matplotlib inline\n",
    "%load_ext autoreload\n",
    "%autoreload 2"
   ]
  },
  {
   "cell_type": "markdown",
   "metadata": {},
   "source": [
    "### Helpers"
   ]
  },
  {
   "cell_type": "code",
   "execution_count": null,
   "metadata": {},
   "outputs": [],
   "source": [
    "\"\"\"To compute distance matrix\"\"\"\n",
    "def distmat(x,y):\n",
    "    \n",
    "    return np.sum(x**2,0)[:,None] + np.sum(y**2,0)[None,:] - 2*x.transpose().dot(y)\n",
    "\n",
    "\"\"\"To Normalise a vector\"\"\"\n",
    "normalize = lambda a: a/np.sum(a)\n",
    "\n",
    "\"\"\"To Compute P\"\"\"\n",
    "def GetP(u,K,v):\n",
    "    return u*K*(v.T)\n",
    "\n",
    "def plotp(x, col,plt, scale=200, edgecolors=\"k\"):\n",
    "  return plt.scatter(x[0,:], x[1,:], s=scale, edgecolors=edgecolors,  c=col, cmap='plasma', linewidths=2)"
   ]
  },
  {
   "cell_type": "code",
   "execution_count": null,
   "metadata": {},
   "outputs": [],
   "source": [
    "N=[400,400]"
   ]
  },
  {
   "cell_type": "code",
   "execution_count": null,
   "metadata": {},
   "outputs": [],
   "source": [
    "x=np.random.rand(2,N[0])-0.5\n",
    "theta =2*np.pi*np.random.rand(1,N[1])\n",
    "r=0.8+.2*np.random.rand(1,N[1])\n",
    "y=np.vstack((r*np.cos(theta),r*np.sin(theta)))"
   ]
  },
  {
   "cell_type": "code",
   "execution_count": null,
   "metadata": {},
   "outputs": [],
   "source": [
    "\n",
    "plt.figure(figsize=(10,10))\n",
    "\n",
    "plotp(x, 'b',plt)\n",
    "plotp(y, 'r',plt)\n",
    "\n",
    "plt.axis(\"off\")\n",
    "plt.xlim(np.min(y[0,:])-.1,np.max(y[0,:])+.1)\n",
    "plt.ylim(np.min(y[1,:])-.1,np.max(y[1,:])+.1)\n",
    "plt.savefig(\"AnnulusvsSquare.png\")\n",
    "plt.show()"
   ]
  },
  {
   "cell_type": "code",
   "execution_count": null,
   "metadata": {},
   "outputs": [],
   "source": [
    "C = distmat(x,y)"
   ]
  },
  {
   "cell_type": "code",
   "execution_count": null,
   "metadata": {},
   "outputs": [],
   "source": [
    "a = np.ones(N[0])/N[0]\n",
    "b = np.ones(N[1])/N[1]"
   ]
  },
  {
   "cell_type": "code",
   "execution_count": null,
   "metadata": {},
   "outputs": [],
   "source": [
    "import computational_OT"
   ]
  },
  {
   "cell_type": "code",
   "execution_count": null,
   "metadata": {},
   "outputs": [],
   "source": [
    "epsilon = .06\n",
    "K = np.exp(-C/epsilon)\n",
    "u=np.ones(N[0])\n",
    "v = np.ones(N[1])\n",
    "\n",
    "\n",
    "\n",
    "SOptimizer=computational_OT.Sinkhorn(K,a,b,u,v,epsilon)\n",
    "out=SOptimizer._update(maxiter=1000)\n",
    "#\n",
    "# Plot\n",
    "plt.figure(figsize = (12,12))\n",
    "\n",
    "plt.subplot(2,1,1),\n",
    "plt.title(\"$||P1 -a||_1$\")\n",
    "plt.plot( np.asarray(out[2]), linewidth = 2)\n",
    "plt.yscale( 'log')\n",
    "plt.ylabel(\"Error in log scale\")\n",
    "plt.xlabel(\"Number of iterations\")\n",
    "plt.legend([\"Sample size: \"+str(i)+\" and Epsilon=\"+str(epsilon) for i in N],loc=\"upper right\")\n",
    "\n",
    "plt.subplot(2,1,2)\n",
    "plt.title(\"$||P^T 1 -b||_1$\")\n",
    "plt.plot( np.asarray(out[3]), linewidth = 2)\n",
    "plt.yscale( 'log')\n",
    "plt.ylabel(\"Error in log scale\")\n",
    "plt.xlabel(\"Number of iterations\")\n",
    "plt.legend([\"Sample size: \"+str(i)+\" and Epsilon=\"+str(epsilon) for i in N],loc=\"upper right\")\n",
    "plt.show()"
   ]
  },
  {
   "cell_type": "code",
   "execution_count": null,
   "metadata": {},
   "outputs": [],
   "source": [
    "epsilon = .06\n",
    "K = np.exp(-C/epsilon)\n",
    "u=np.ones(N[0])\n",
    "v = np.ones(N[1])\n",
    "\n",
    "\n",
    "SOptimizer=computational_OT.Sinkhorn(K,a,b,u,v,epsilon)\n",
    "outS=SOptimizer._update(maxiter=110)\n",
    "\n",
    "\n",
    "X = np.hstack( (outS[0].T,outS[1].T) )\n",
    "X = epsilon*np.log(X)\n",
    "NOptimizer=computational_OT.NewtonRaphson(X,K,a,b,epsilon)\n",
    "outN=NOptimizer._update(maxiter=10, debug=False)\n",
    "\n"
   ]
  },
  {
   "cell_type": "code",
   "execution_count": null,
   "metadata": {},
   "outputs": [],
   "source": [
    "# Plot\n",
    "plt.figure(figsize = (12,6))\n",
    "\n",
    "#plt.subplot(2,1,1),\n",
    "plt.title(\"$||P1 -a||_1 + ||P^T 1 -b||_1$\")\n",
    "error_sinkhorn = np.asarray(out[2]) + np.asarray(out[3])\n",
    "error_hybrid   = np.asarray(outS[2]+outN[0]) + np.asarray(outS[3]+outN[1])\n",
    "plt.plot( error_sinkhorn, label='Sinkhorn for $\\epsilon=$' + str(epsilon), linewidth = 2)\n",
    "plt.plot( error_hybrid,label='Hybrid method for $\\epsilon=$'+ str(epsilon), linewidth = 2)\n",
    "plt.xlabel(\"Number of iterations\")\n",
    "plt.ylabel(\"Error in log-scale\")\n",
    "plt.legend()\n",
    "plt.yscale( 'log')\n",
    "plt.savefig(\"SinkhornNewton.png\")\n",
    "plt.show()"
   ]
  },
  {
   "cell_type": "markdown",
   "metadata": {},
   "source": [
    "## Experiments for different epsilons"
   ]
  },
  {
   "cell_type": "code",
   "execution_count": null,
   "metadata": {},
   "outputs": [],
   "source": [
    "epsilons=[0.01,0.02,0.05,0.1,0.15,0.2,0.25,0.3,0.35,0.4,0.45,0.5]\n",
    "n=len(epsilons)\n",
    "outS={}\n",
    "outN={}\n",
    "P={}\n",
    "\n",
    "for i in range(n):\n",
    "    K = np.exp(-C/epsilons[i])\n",
    "    u=np.ones(N[0])\n",
    "    v=np.ones(N[1])\n",
    "\n",
    "    SOptimizer=computational_OT.Sinkhorn(K,a,b,u,v,epsilons[i])\n",
    "    out1=SOptimizer._update(maxiter=1000)\n",
    "    outS[i]=out1\n",
    "\n",
    "    X = np.hstack( (outS[i][0],outS[i][1]) )\n",
    "    X = epsilons[i]*np.log(X)\n",
    "    NOptimizer=computational_OT.NewtonRaphson(X,K,a,b,epsilons[i])\n",
    "    out2=NOptimizer._update(maxiter=10, debug=False)\n",
    "    outN[i]=out2\n",
    "    \n",
    "    \n",
    "    P[i] = np.dot(np.dot(np.diag(out1[0]),K),np.diag(out1[1]))\n",
    "    P_xx = np.dot(P[i], P[i].T)\n",
    "    P_yy = np.dot(P[i].T, P[i])\n",
    "    _,ax=plt.subplots(figsize=(20,5),nrows=1,ncols=3)\n",
    "\n",
    "    ax[0].set_title(\"P$_{\\epsilon}$ histogram for $\\epsilon$: \"+str(epsilons[i]))\n",
    "\n",
    "    ax[0].hist(P[i].flatten(), 20)\n",
    "    ax[0].set_xscale(\"log\")\n",
    "    ax[0].set_yscale(\"log\")\n",
    "    ax[1].set_title(\"P$_{\\epsilon}$P$^{T}_{\\epsilon}$ flattened and $\\epsilon$: \"+str(epsilons[i]))\n",
    "    ax[1].hist( P_xx.flatten(), 20, cumulative=False)\n",
    "    ax[1].set_xscale(\"log\")\n",
    "    ax[1].set_yscale(\"log\")\n",
    "    \n",
    "    ax[2].set_title(\"P$^{T}_{\\epsilon}$P$_{\\epsilon}$ flattened and $\\epsilon$: \"+str(epsilons[i]))\n",
    "    ax[2].hist( P_yy.flatten(), 20, cumulative=False)\n",
    "    ax[2].set_xscale(\"log\")\n",
    "    ax[2].set_yscale(\"log\")\n",
    "    plt.savefig(\"Phist\"+str(i)+\".png\")\n",
    "    plt.show()\n",
    "    print(\"\\n \\n\")\n",
    "    "
   ]
  },
  {
   "cell_type": "markdown",
   "metadata": {},
   "source": [
    "### Compute the cutoffs"
   ]
  },
  {
   "cell_type": "code",
   "execution_count": null,
   "metadata": {},
   "outputs": [],
   "source": [
    "q=0.8\n",
    "cutoff_x=[]\n",
    "cutoff_y=[]\n",
    "for i in range(n):\n",
    "    cutoff_x.append(np.quantile(np.dot(P[0],P[0].T).flatten(),q))\n",
    "    cutoff_y.append(np.quantile(np.dot(P[0].T,P[0]).flatten(),q))\n"
   ]
  },
  {
   "cell_type": "markdown",
   "metadata": {},
   "source": [
    "## Cuthill Mckee"
   ]
  },
  {
   "cell_type": "code",
   "execution_count": null,
   "metadata": {},
   "outputs": [],
   "source": [
    "for i in range(n):\n",
    "    CuthillMckee=computational_OT._Expcuthill_mckee(P[i])\n",
    "    CuthillMckee._evaluate(cut_offx=cutoff_x[i],cut_offy=cutoff_y[i],epsilon=epsilons[i],index=i)\n"
   ]
  },
  {
   "cell_type": "code",
   "execution_count": null,
   "metadata": {},
   "outputs": [],
   "source": [
    "# Plot\n",
    "plt.figure(figsize = (15,6))\n",
    "\n",
    "#plt.subplot(2,1,1),\n",
    "plt.title(\"$||P1 -a||_1 + ||P^T 1 -b||_1$\")\n",
    "for i in range(n):\n",
    "    error_hybrid   = np.asarray(outS[i][2]) + np.asarray(outS[i][3])\n",
    "    plt.plot( error_hybrid,label='Sinkhorn for $\\epsilon=$'+ str(epsilons[i]), linewidth = 2)\n",
    "\n",
    "plt.xlabel(\"Number of iterations\")\n",
    "plt.ylabel(\"Error in log-scale\")\n",
    "plt.legend()\n",
    "plt.yscale( 'log')\n",
    "plt.savefig(\"Sinkhornvaryepsilon.png\")\n",
    "plt.show()"
   ]
  },
  {
   "cell_type": "markdown",
   "metadata": {},
   "source": [
    "### Nested Dissection"
   ]
  },
  {
   "cell_type": "code",
   "execution_count": null,
   "metadata": {},
   "outputs": [],
   "source": [
    "for i in range(n): \n",
    "    nd=computational_OT.NestedDissection(P[i],stopdim=50 )\n",
    "    nd._evaluate(cutoff_x[i],cutoff_y[i],epsilons[i],index=i)\n",
    "    "
   ]
  },
  {
   "cell_type": "markdown",
   "metadata": {},
   "source": [
    "### Damped Newton"
   ]
  },
  {
   "cell_type": "code",
   "execution_count": null,
   "metadata": {},
   "outputs": [],
   "source": [
    "rho=0.95\n",
    "c1=0.05\n",
    "DampedNewtonP=[]\n",
    "results_DampedNewton  = []\n",
    "times_DampedNewton    = []\n",
    "Hessians_DampedNewton = []\n",
    "\n",
    "#epsilons=[0.05,0.08,0.1]\n",
    "epsilons=[0.1,0.2, 0.3, 0.4, 0.5, 0.75, 1.0 ]\n",
    "for eps in epsilons:\n",
    "    # Line Search\n",
    "    print(\"Damped Newton for epsilon=\"+str(eps)+\":\")    \n",
    "    #Cost matrix\n",
    "    C = distmat(x,y)\n",
    "\n",
    "    # a and b\n",
    "    a = normalize(np.ones(N[0]))\n",
    "    a=a.reshape(a.shape[0],-1)\n",
    "    b = normalize(np.ones(N[1]))\n",
    "    b=b.reshape(b.shape[0],-1)\n",
    "\n",
    "    #Epsilon \n",
    "\n",
    "    # epsilon = .05\n",
    "\n",
    "    #Kernel\n",
    "    K=np.exp(-C/eps)\n",
    "\n",
    "    f,g=a,b\n",
    "\n",
    "    print(\"Doing for (\",N[0],N[1],\").\")\n",
    "    print( \" |- Iterating\")\n",
    "    start=time.time()\n",
    "    Optimizer=computational_OT.DampedNewton(K,a,b,f,g,eps,rho,c1)\n",
    "    out=Optimizer._update(maxiter=100)\n",
    "    results_DampedNewton.append(out)\n",
    "    end=time.time()\n",
    "    times_DampedNewton.append(end-start)\n",
    "    print( \" |- Computing P\")\n",
    "    DampedNewtonP.append(GetP(np.exp(out[0]/eps),K,np.exp(out[1]/eps)))\n",
    "    print( \" |- Recording (unstabilized) Hessian\")\n",
    "    mat  = -eps*Optimizer.Hessian\n",
    "    diag = 1/np.sqrt( np.vstack( (a,b) ) ).flatten()\n",
    "    mat = diag*mat*diag\n",
    "    Hessians_DampedNewton.append( mat )\n",
    "\n",
    "    print( \"\" )\n"
   ]
  },
  {
   "cell_type": "code",
   "execution_count": null,
   "metadata": {},
   "outputs": [],
   "source": [
    "plt.figure(figsize = (20,7))\n",
    "plt.title(\"$$\")\n",
    "\n",
    "plt.title(\"$||P1 -a||_1+||P^T 1 -b||_1$\")\n",
    "\n",
    "for i in range(len(results_DampedNewton)):\n",
    "  error=np.asarray(results_DampedNewton[i][2])+np.asarray(results_DampedNewton[i][3])\n",
    "  plt.plot( error,label='Damped Newton for $\\epsilon=$'+ str(epsilons[i]), linewidth = 2)\n",
    "\n",
    "plt.xlabel(\"Number of iterations\")\n",
    "plt.ylabel(\"Error in log-scale\")\n",
    "plt.legend()\n",
    "plt.yscale( 'log')\n",
    "plt.savefig(\"ErrorLinesearchNewton.png\")\n",
    "plt.show()\n",
    "\n",
    "print(\"\\n Error plots can increase! The error is not the objective function!\")"
   ]
  },
  {
   "cell_type": "code",
   "execution_count": null,
   "metadata": {},
   "outputs": [],
   "source": [
    "plt.figure(figsize = (20,7))\n",
    "plt.title(\"$$\")\n",
    "\n",
    "plt.title(\"Objective Function\")\n",
    "\n",
    "for i in range(len(results_DampedNewton)):\n",
    "  plt.plot( np.asarray(results_DampedNewton[i][4]),label='Damped Newton for $\\epsilon=$'+ str(epsilons[i]), linewidth = 2)\n",
    "\n",
    "plt.xlabel(\"Number of iterations\")\n",
    "plt.ylabel(\"Objective value\")\n",
    "plt.legend()\n",
    "plt.savefig(\"ObjectiveLineSearchNewton.png\")\n",
    "plt.show()"
   ]
  },
  {
   "cell_type": "code",
   "execution_count": null,
   "metadata": {},
   "outputs": [],
   "source": [
    "plt.figure(figsize = (20,7))\n",
    "plt.subplot(2,1,1),\n",
    "plt.title(\"Alpha\")\n",
    "\n",
    "for i in range(len(results_DampedNewton)):\n",
    "  plt.plot( np.asarray(results_DampedNewton[i][5]),label='Damped Newton for $\\epsilon=$'+ str(epsilons[i]), linewidth = 2)\n",
    "\n",
    "plt.xlabel(\"Number of iterations\")\n",
    "plt.ylabel(\"Alpha in log-scale\")\n",
    "plt.legend()\n",
    "# plt.yscale( 'log')\n",
    "plt.savefig(\"AlphaLineSearchNewton.png\")\n",
    "plt.show()\n",
    "\n"
   ]
  },
  {
   "cell_type": "code",
   "execution_count": null,
   "metadata": {},
   "outputs": [],
   "source": [
    "def print_spectral_statistics(mat, stabilize=False):\n",
    "    if stabilize:\n",
    "        # Stabilizing largest and smallest eigenvalue\n",
    "        min_vector = np.hstack( (np.ones(N[0]), -np.ones(N[1])) )\n",
    "        max_vector = np.hstack( (np.ones(N[0]),  np.ones(N[1])) )\n",
    "        norm = np.sqrt( N[0] + N[1] )\n",
    "        min_vector = min_vector/norm\n",
    "        max_vector = max_vector/norm\n",
    "        min_vector = min_vector.reshape( (min_vector.shape[0], 1) )\n",
    "        max_vector = max_vector.reshape( (max_vector.shape[0], 1) )\n",
    "        #\n",
    "        mat = mat + np.dot( min_vector, min_vector.T)\n",
    "        mat = mat - np.dot( max_vector, max_vector.T)\n",
    "    # endif\n",
    "    eig, v = np.linalg.eig( mat )\n",
    "    sorting_indices = np.argsort(eig)\n",
    "    eig = eig[sorting_indices]\n",
    "    v   = v[:, sorting_indices]\n",
    "    #print( \"Mean eigenvalue: \", np.mean(eig) )\n",
    "    print( \"List of smallest eigenvalues: \", eig[:10])\n",
    "    print( \"List of largest  eigenvalues: \", eig[-10:])\n",
    "    min_index = np.argmin(eig)\n",
    "    max_index = np.argmax(eig)\n",
    "    min_value = eig[ min_index ]\n",
    "    max_value = eig[max_index]\n",
    "    min_vector = v[:, min_index]\n",
    "    min_vector = min_vector/min_vector[0]\n",
    "    max_vector = v[:,max_index]\n",
    "    max_vector = max_vector/max_vector[0]\n",
    "    condition_number = max_value/min_value\n",
    "    # Test smallest and largest\n",
    "    # print( \"Min eigenvalue vector: \", min_vector)\n",
    "    # print( \"Max eigenvalue vector: \", max_vector)\n",
    "    #\n",
    "    #print( v[:,0]*np.sqrt( self.N1 + self.N2))\n",
    "    #vector = v[:,0]\n",
    "    #test = np.dot( result, vector)\n",
    "    #print( np.linalg.norm(test) )\n",
    "    #print(\"Min absolute eigenvalues: \", min_value)\n",
    "    #print(\"Norm of v-1: \", np.linalg.norm(min_vector-eig_vector))\n",
    "    print(\"Condition number: \", condition_number)\n",
    "    plt.hist( eig, 50)\n",
    "    plt.title( \"Histogram of eigenvalues for Hessian\")\n",
    "    plt.xlabel( \"Eigenvalues\")\n",
    "    plt.yscale( \"log\" )\n",
    "    plt.show()"
   ]
  },
  {
   "cell_type": "code",
   "execution_count": null,
   "metadata": {},
   "outputs": [],
   "source": [
    "for i in range(len(epsilons)):\n",
    "#for i in range(len(epsilons)-1,len(epsilons)):\n",
    "    eps = epsilons[i]\n",
    "    print(\"Spectral statistics of Hessian for epsilon=\"+str(eps))\n",
    "    Hessian = Hessians_DampedNewton[i]\n",
    "    print_spectral_statistics( Hessian, stabilize=False )\n",
    "    print(\"\")\n"
   ]
  },
  {
   "cell_type": "markdown",
   "metadata": {},
   "source": [
    "### Annulus vs Rotated Annulus"
   ]
  },
  {
   "cell_type": "code",
   "execution_count": null,
   "metadata": {},
   "outputs": [],
   "source": [
    "N=[400,400]"
   ]
  },
  {
   "cell_type": "markdown",
   "metadata": {},
   "source": [
    "### Sampled Annulus"
   ]
  },
  {
   "cell_type": "code",
   "execution_count": null,
   "metadata": {},
   "outputs": [],
   "source": [
    "random = 0.05*np.random.normal(size=N[0])\n",
    "random2 = np.floor(3*np.random.uniform(size=N[0]))/3\n",
    "biased_unif = (random + random2) % 1\n",
    "theta   = 2*np.pi*biased_unif\n",
    "r=1.0\n",
    "X=np.vstack((np.cos(theta)*r,np.sin(theta)*r))"
   ]
  },
  {
   "cell_type": "code",
   "execution_count": null,
   "metadata": {},
   "outputs": [],
   "source": [
    "Angleorderedmatrices=[]"
   ]
  },
  {
   "cell_type": "markdown",
   "metadata": {},
   "source": [
    "### Rotated Annulus"
   ]
  },
  {
   "cell_type": "code",
   "execution_count": null,
   "metadata": {},
   "outputs": [],
   "source": [
    "Y=np.vstack((np.cos(theta+(np.pi/2))*r,np.sin(theta+(np.pi/2))*r))\n"
   ]
  },
  {
   "cell_type": "code",
   "execution_count": null,
   "metadata": {},
   "outputs": [],
   "source": [
    "_,ax=plt.subplots(figsize=(10,5),nrows=1,ncols=2)\n",
    "\n",
    "plotp(X, 'b',ax[0],scale=50, edgecolors=(0,0,0,0))\n",
    "plotp(Y, 'r',ax[1],scale=50, edgecolors=(0,0,0,0))\n",
    "\n",
    "# ax.axis(\"off\")\n",
    "ax[0].axis(\"off\")\n",
    "ax[1].axis(\"off\")\n",
    "\n",
    "# ax[0].xlim(np.min(X[0,:])-.1,np.max(X[0,:])+.1)\n",
    "# ax[1].ylim(np.min(Y[1,:])-.1,np.max(Y[1,:])+.1)\n",
    "plt.savefig(\"SuperimposedAnnulusvsRotatedAnnulus1.png\")\n",
    "plt.show()"
   ]
  },
  {
   "cell_type": "code",
   "execution_count": null,
   "metadata": {},
   "outputs": [],
   "source": [
    "_,ax=plt.subplots(figsize=(8,8),nrows=1,ncols=1)\n",
    "\n",
    "plotp(X, 'b',ax,scale=50, edgecolors=(0,0,0,0))\n",
    "plotp(Y, 'r',ax,scale=50, edgecolors=(0,0,0,0))\n",
    "\n",
    "ax.axis(\"off\")\n",
    "# ax[0].axis(\"off\")\n",
    "# ax[1].axis(\"off\")\n",
    "\n",
    "# ax[0].xlim(np.min(x[0,:])-.1,np.max(x[0,:])+.1)\n",
    "# ax[1].ylim(np.min(y[1,:])-.1,np.max(y[1,:])+.1)\n",
    "plt.savefig(\"SuperimposedAnnulusvsRotatedAnnulus.png\")\n",
    "plt.show()\n"
   ]
  },
  {
   "cell_type": "code",
   "execution_count": null,
   "metadata": {},
   "outputs": [],
   "source": [
    "import math\n",
    "C=np.zeros((N[0],N[1]))\n",
    "for i in range(N[0]):\n",
    "    for j in range(N[1]):\n",
    "        dotproduct=np.dot(X[:,i],Y[:,j])\n",
    "        norm=np.sqrt(np.linalg.norm(X[:,i])*np.linalg.norm(Y[:,j]))\n",
    "        angle=np.arccos(dotproduct/norm)\n",
    "        C[i][j]=r*angle\n",
    "# C=distmat(X,Y)"
   ]
  },
  {
   "cell_type": "code",
   "execution_count": null,
   "metadata": {},
   "outputs": [],
   "source": [
    "# a and b\n",
    "a = normalize(np.ones(N[0]))\n",
    "a=a.reshape(a.shape[0],-1)\n",
    "b = normalize(np.ones(N[1]))\n",
    "b=b.reshape(b.shape[0],-1)"
   ]
  },
  {
   "cell_type": "code",
   "execution_count": null,
   "metadata": {},
   "outputs": [],
   "source": [
    "epsilon = .2\n",
    "\n",
    "K = np.exp(-C/epsilon)\n",
    "u=np.ones(N[0])\n",
    "v = np.ones(N[1])\n",
    "\n",
    "\n",
    "SOptimizer=computational_OT.Sinkhorn(K,a,b,u,v,epsilon)\n",
    "outS=SOptimizer._update(maxiter=1000)\n",
    "\n",
    "\n",
    "# Plot\n",
    "plt.figure(figsize = (12,12))\n",
    "\n",
    "plt.subplot(2,1,1),\n",
    "plt.title(\"$||P1 -a||_1$\")\n",
    "plt.plot( np.asarray(outS[2]), linewidth = 2)\n",
    "plt.yscale('log')\n",
    "plt.ylabel(\"Error in log scale\")\n",
    "plt.xlabel(\"Number of iterations\")\n",
    "plt.legend([\"Sample size: \"+str(i)+\" and Epsilon=\"+str(epsilon) for i in N],loc=\"upper right\")\n",
    "\n",
    "plt.subplot(2,1,2)\n",
    "plt.title(\"$||P^T 1 -b||_1$\")\n",
    "plt.plot( np.asarray(outS[3]), linewidth = 2)\n",
    "plt.yscale('log')\n",
    "plt.ylabel(\"Error in log scale\")\n",
    "plt.xlabel(\"Number of iterations\")\n",
    "plt.legend([\"Sample size: \"+str(i)+\" and Epsilon=\"+str(epsilon) for i in N],loc=\"upper right\")\n",
    "plt.show()"
   ]
  },
  {
   "cell_type": "code",
   "execution_count": null,
   "metadata": {},
   "outputs": [],
   "source": [
    "Ptest = outS[0]*K*(outS[1].T)\n",
    "P_xx = np.dot(Ptest, Ptest.T)\n",
    "P_yy = np.dot(Ptest.T, Ptest)\n",
    "_,ax=plt.subplots(figsize=(20,5),nrows=1,ncols=3)\n",
    "\n",
    "ax[0].set_title(\"P histogram for epsilon: \"+str(epsilon))\n",
    "\n",
    "ax[0].hist(Ptest.flatten(), 20)\n",
    "ax[0].set_xscale(\"log\")\n",
    "ax[0].set_yscale(\"log\")\n",
    "ax[1].set_title(\"P_xx flattened and e: \"+str(epsilon))\n",
    "ax[1].hist( P_xx.flatten(), 20, cumulative=False)\n",
    "ax[1].set_xscale(\"log\")\n",
    "ax[1].set_yscale(\"log\")\n",
    "\n",
    "ax[2].set_title(\"P_yy flattened and e: \"+str(epsilon))\n",
    "ax[2].hist( P_yy.flatten(), 20, cumulative=False)\n",
    "ax[2].set_xscale(\"log\")\n",
    "ax[2].set_yscale(\"log\")\n",
    "plt.savefig(\"PhistAnnulusvsRotatedAnnulus\"+str(epsilon)+\".png\")\n",
    "plt.show()\n",
    "print(\"\\n \\n\")\n"
   ]
  },
  {
   "cell_type": "code",
   "execution_count": null,
   "metadata": {},
   "outputs": [],
   "source": [
    "q=0.8\n",
    "cutoff_x=0\n",
    "cutoff_y=0\n",
    "cutoff_x=np.quantile(np.dot(Ptest[0],Ptest[0].T).flatten(),q)\n",
    "cutoff_y=np.quantile(np.dot(Ptest[0].T,Ptest[0]).flatten(),q)\n"
   ]
  },
  {
   "cell_type": "code",
   "execution_count": null,
   "metadata": {},
   "outputs": [],
   "source": [
    "sorted_theta=np.sort(theta)\n",
    "\n",
    "\n",
    "perm_matrix=np.zeros((400,400))\n",
    "for i in range(400):\n",
    "    for j in range(400):\n",
    "        if theta[i]==sorted_theta[j]:\n",
    "            perm_matrix[i][j]=1\n",
    "\n",
    "P_=np.dot(Ptest,perm_matrix)\n",
    "P_=np.dot(perm_matrix.T,P_)\n",
    "Angleorderedmatrices.append(P_)\n",
    "\n"
   ]
  },
  {
   "cell_type": "code",
   "execution_count": null,
   "metadata": {},
   "outputs": [],
   "source": [
    "                                                                                                                                                                                                                                                                                                                                                                                                                                                                                                                                                                                                                                                                                                                                                                                                                                                                                                                                                                                                                                                                                                                                                                                                                                                                                                                                                                                                                                                                                                                                                                                                                                                                                                                                                                                                                                                                                                                                                                                                                                                                                                                                                                                                                                                                                                                                                                                                                                                                                                                                                                                                                                                                                                                                                                                                                                                                                                                                                                                                                                                                                                                                                                                                                                                                        \n",
    "CuthillMckee=computational_OT._Expcuthill_mckee(Ptest)\n",
    "CuthillMckee._evaluate(cut_offx=cutoff_x,cut_offy=cutoff_y,epsilon=epsilon,index=epsilon)"
   ]
  },
  {
   "cell_type": "code",
   "execution_count": null,
   "metadata": {},
   "outputs": [],
   "source": [
    "plt.figure(figsize=(8,8))\n",
    "\n",
    "plotp(X, 'b',plt,scale=50, edgecolors=(0,0,0,0))\n",
    "plotp(Y, 'r',plt,scale=50, edgecolors=(0,0,0,0))\n",
    "\n",
    "\n",
    "A = Ptest * (Ptest > np.max(Ptest)*.8)\n",
    "i,j = np.where(A != 0)\n",
    "plt.plot([X[0,i],Y[0,j]],[X[1,i],Y[1,j]],'k',lw = 2)\n",
    "\n",
    "\n",
    "A = Ptest * (Ptest > np.max(Ptest)*.2)\n",
    "i,j = np.where(A != 0)\n",
    "plt.plot([X[0,i],Y[0,j]],[X[1,i],Y[1,j]],'k',lw = 1)\n",
    "\n",
    "plt.axis(\"off\")\n",
    "plt.xlim(np.min(Y[0,:])-.1,np.max(Y[0,:])+.1)\n",
    "plt.ylim(np.min(Y[1,:])-.1,np.max(Y[1,:])+.1)\n",
    "plt.savefig(\"FinalAnnulusvsRotatedAnnulus\"+str(epsilon)+\".png\")\n",
    "plt.show()"
   ]
  },
  {
   "cell_type": "code",
   "execution_count": null,
   "metadata": {},
   "outputs": [],
   "source": []
  },
  {
   "cell_type": "code",
   "execution_count": null,
   "metadata": {},
   "outputs": [],
   "source": [
    "_,ax=plt.subplots(figsize=(20,5),nrows=1,ncols=5)\n",
    "ax[0].set_title(\"For epsilon=0.01.\")\n",
    "ax[0].imshow(Angleorderedmatrices[0])\n",
    "ax[1].set_title(\"For epsilon=0.02.\")\n",
    "\n",
    "ax[1].imshow(Angleorderedmatrices[1])\n",
    "ax[2].set_title(\"For epsilon=0.05.\")\n",
    "\n",
    "ax[2].imshow(Angleorderedmatrices[2])\n",
    "ax[3].set_title(\"For epsilon=0.1.\")\n",
    "\n",
    "ax[3].imshow(Angleorderedmatrices[3])\n",
    "ax[4].set_title(\"For epsilon=0.2.\")\n",
    "\n",
    "ax[4].imshow(Angleorderedmatrices[4])\n",
    "\n",
    "plt.savefig(\"Angleorderedmatrices.png\")\n",
    "plt.show()\n",
    "print(\"\\n \\n\")\n",
    "\n"
   ]
  },
  {
   "cell_type": "code",
   "execution_count": null,
   "metadata": {},
   "outputs": [],
   "source": []
  },
  {
   "cell_type": "code",
   "execution_count": null,
   "metadata": {},
   "outputs": [],
   "source": []
  },
  {
   "cell_type": "code",
   "execution_count": null,
   "metadata": {},
   "outputs": [],
   "source": []
  },
  {
   "cell_type": "code",
   "execution_count": null,
   "metadata": {},
   "outputs": [],
   "source": []
  },
  {
   "cell_type": "code",
   "execution_count": null,
   "metadata": {},
   "outputs": [],
   "source": []
  },
  {
   "cell_type": "code",
   "execution_count": null,
   "metadata": {},
   "outputs": [],
   "source": []
  }
 ],
 "metadata": {
  "kernelspec": {
   "display_name": "Python 3.7.6 ('.venv_computational-OT': venv)",
   "language": "python",
   "name": "python3"
  },
  "language_info": {
   "codemirror_mode": {
    "name": "ipython",
    "version": 3
   },
   "file_extension": ".py",
   "mimetype": "text/x-python",
   "name": "python",
   "nbconvert_exporter": "python",
   "pygments_lexer": "ipython3",
   "version": "3.7.6"
  },
  "vscode": {
   "interpreter": {
    "hash": "75f246988ec4f21131973b50967f69fae3637271f5aa66bb961d71fec43f87c6"
   }
  }
 },
 "nbformat": 4,
 "nbformat_minor": 1
}
