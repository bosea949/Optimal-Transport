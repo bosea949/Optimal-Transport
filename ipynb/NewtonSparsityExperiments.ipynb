{
 "cells": [
  {
   "cell_type": "markdown",
   "metadata": {},
   "source": [
    "Entropic Regularization of Optimal Transport\n",
    "============================================\n",
    "\n",
    "*Important:* Please read the [installation page](http://gpeyre.github.io/numerical-tours/installation_matlab/) for details about how to install the toolboxes."
   ]
  },
  {
   "cell_type": "markdown",
   "metadata": {},
   "source": [
    "This numerical tours exposes the general methodology of regularizing the\n",
    "optimal transport (OT) linear program using entropy. This allows to\n",
    "derive fast computation algorithm based on iterative projections\n",
    "according to a Kulback-Leiber divergence."
   ]
  },
  {
   "cell_type": "code",
   "execution_count": null,
   "metadata": {},
   "outputs": [],
   "source": [
    "from __future__ import division\n",
    "\n",
    "import numpy as np\n",
    "\n",
    "import matplotlib.pyplot as plt\n",
    "import scipy as scp\n",
    "import pylab as pyl\n",
    "\n",
    "import warnings\n",
    "warnings.filterwarnings('ignore')\n",
    "\n",
    "%matplotlib inline\n",
    "%load_ext autoreload\n",
    "%autoreload 2"
   ]
  },
  {
   "cell_type": "markdown",
   "metadata": {},
   "source": [
    "### Helpers"
   ]
  },
  {
   "cell_type": "code",
   "execution_count": null,
   "metadata": {},
   "outputs": [],
   "source": [
    "\"\"\"To compute distance matrix\"\"\"\n",
    "def distmat(x,y):\n",
    "    \n",
    "    return np.sum(x**2,0)[:,None] + np.sum(y**2,0)[None,:] - 2*x.transpose().dot(y)\n",
    "\n",
    "\"\"\"To Normalise a vector\"\"\"\n",
    "normalize = lambda a: a/np.sum(a)\n",
    "\n",
    "\"\"\"To Compute P\"\"\"\n",
    "def GetP(u,K,v):\n",
    "    return u*K*(v.T)\n",
    "\n",
    "def plotp(x, col,plt, scale=200, edgecolors=\"k\"):\n",
    "  return plt.scatter(x[0,:], x[1,:], s=scale, edgecolors=edgecolors,  c=col, cmap='plasma', linewidths=2)"
   ]
  },
  {
   "cell_type": "code",
   "execution_count": null,
   "metadata": {},
   "outputs": [],
   "source": [
    "N=[400,400]"
   ]
  },
  {
   "cell_type": "code",
   "execution_count": null,
   "metadata": {},
   "outputs": [],
   "source": [
    "x=np.random.rand(2,N[0])-0.5\n",
    "theta =2*np.pi*np.random.rand(1,N[1])\n",
    "r=0.8+.2*np.random.rand(1,N[1])\n",
    "y=np.vstack((r*np.cos(theta),r*np.sin(theta)))"
   ]
  },
  {
   "cell_type": "code",
   "execution_count": null,
   "metadata": {},
   "outputs": [],
   "source": [
    "\n",
    "plt.figure(figsize=(10,10))\n",
    "\n",
    "plotp(x, 'b',plt)\n",
    "plotp(y, 'r',plt)\n",
    "\n",
    "plt.axis(\"off\")\n",
    "plt.xlim(np.min(y[0,:])-.1,np.max(y[0,:])+.1)\n",
    "plt.ylim(np.min(y[1,:])-.1,np.max(y[1,:])+.1)\n",
    "\n",
    "plt.show()"
   ]
  },
  {
   "cell_type": "code",
   "execution_count": null,
   "metadata": {},
   "outputs": [],
   "source": [
    "C = distmat(x,y)"
   ]
  },
  {
   "cell_type": "code",
   "execution_count": null,
   "metadata": {},
   "outputs": [],
   "source": [
    "a = np.ones(N[0])/N[0]\n",
    "b = np.ones(N[1])/N[1]"
   ]
  },
  {
   "cell_type": "code",
   "execution_count": null,
   "metadata": {},
   "outputs": [],
   "source": [
    "import computational_OT"
   ]
  },
  {
   "cell_type": "code",
   "execution_count": null,
   "metadata": {},
   "outputs": [],
   "source": [
    "epsilon = .01\n",
    "K = np.exp(-C/epsilon)\n",
    "u=np.ones(N[0])\n",
    "v = np.ones(N[1])\n",
    "\n",
    "\n",
    "\n",
    "SOptimizer=computational_OT.Sinkhorn(K,a,b,u,v,epsilon)\n",
    "out=SOptimizer._update(maxiter=1000)\n",
    "#\n",
    "# Plot\n",
    "plt.figure(figsize = (12,12))\n",
    "\n",
    "plt.subplot(2,1,1),\n",
    "plt.title(\"$||P1 -a||_1$\")\n",
    "plt.plot( np.asarray(out[2]), linewidth = 2)\n",
    "plt.yscale( 'log')\n",
    "plt.ylabel(\"Error in log scale\")\n",
    "plt.xlabel(\"Number of iterations\")\n",
    "plt.legend([\"Sample size: \"+str(i)+\" and Epsilon=\"+str(epsilon) for i in N],loc=\"upper right\")\n",
    "\n",
    "plt.subplot(2,1,2)\n",
    "plt.title(\"$||P^T 1 -b||_1$\")\n",
    "plt.plot( np.asarray(out[3]), linewidth = 2)\n",
    "plt.yscale( 'log')\n",
    "plt.ylabel(\"Error in log scale\")\n",
    "plt.xlabel(\"Number of iterations\")\n",
    "plt.legend([\"Sample size: \"+str(i)+\" and Epsilon=\"+str(epsilon) for i in N],loc=\"upper right\")\n",
    "plt.show()"
   ]
  },
  {
   "cell_type": "code",
   "execution_count": null,
   "metadata": {},
   "outputs": [],
   "source": [
    "epsilon = .01\n",
    "K = np.exp(-C/epsilon)\n",
    "u=np.ones(N[0])\n",
    "v = np.ones(N[1])\n",
    "\n",
    "\n",
    "SOptimizer=computational_OT.Sinkhorn(K,a,b,u,v,epsilon)\n",
    "outS=SOptimizer._update(maxiter=100)\n",
    "\n",
    "\n",
    "X = np.hstack( (outS[0],outS[1]) )\n",
    "X = epsilon*np.log(X)\n",
    "NOptimizer=computational_OT.NewtonRaphson(X,K,a,b,epsilon)\n",
    "outN=NOptimizer._update(maxiter=10, debug=False)"
   ]
  },
  {
   "cell_type": "code",
   "execution_count": null,
   "metadata": {},
   "outputs": [],
   "source": [
    "# Plot\n",
    "plt.figure(figsize = (12,6))\n",
    "\n",
    "#plt.subplot(2,1,1),\n",
    "plt.title(\"$||P1 -a||_1 + ||P^T 1 -b||_1$\")\n",
    "error_sinkhorn = np.asarray(out[2]) + np.asarray(out[3])\n",
    "error_hybrid   = np.asarray(outS[2]+outN[0]) + np.asarray(outS[3]+outN[1])\n",
    "plt.plot( error_sinkhorn, label='Sinkhorn for $\\epsilon=$' + str(epsilon), linewidth = 2)\n",
    "plt.plot( error_hybrid,label='Hybrid method for $\\epsilon=$'+ str(epsilon), linewidth = 2)\n",
    "plt.xlabel(\"Number of iterations\")\n",
    "plt.ylabel(\"Error in log-scale\")\n",
    "plt.legend()\n",
    "plt.yscale( 'log')\n",
    "plt.show()"
   ]
  },
  {
   "cell_type": "code",
   "execution_count": null,
   "metadata": {},
   "outputs": [],
   "source": [
    "P = np.dot(np.dot(np.diag(outS[0]),K),np.diag(outS[1]))\n",
    "Q1 = np.sort(P, axis=0)\n",
    "Q2 = np.sort(P, axis=1)\n",
    "\n",
    "plt.figure()\n",
    "plt.imshow(P);\n",
    "plt.figure()\n",
    "plt.imshow(Q1);\n",
    "plt.figure()\n",
    "plt.imshow(Q2);"
   ]
  },
  {
   "cell_type": "markdown",
   "metadata": {},
   "source": [
    "## Experiments for different epsilons"
   ]
  },
  {
   "cell_type": "code",
   "execution_count": null,
   "metadata": {},
   "outputs": [],
   "source": [
    "epsilons=[0.01,0.02,0.05,0.1,0.15,0.2,0.25,0.3,0.35,0.4,0.45,0.5]\n",
    "n=len(epsilons)\n",
    "outS={}\n",
    "outN={}\n",
    "P={}\n",
    "\n",
    "for i in range(n):\n",
    "    K = np.exp(-C/epsilons[i])\n",
    "    u=np.ones(N[0])\n",
    "    v=np.ones(N[1])\n",
    "\n",
    "    SOptimizer=computational_OT.Sinkhorn(K,a,b,u,v,epsilons[i])\n",
    "    out1=SOptimizer._update(maxiter=1000)\n",
    "    outS[i]=out1\n",
    "\n",
    "    X = np.hstack( (outS[i][0],outS[i][1]) )\n",
    "    X = epsilons[i]*np.log(X)\n",
    "    NOptimizer=computational_OT.NewtonRaphson(X,K,a,b,epsilons[i])\n",
    "    out2=NOptimizer._update(maxiter=10, debug=False)\n",
    "    outN[i]=out2\n",
    "    \n",
    "    \n",
    "    P[i] = np.dot(np.dot(np.diag(out1[0]),K),np.diag(out1[1]))\n",
    "    P_xx = np.dot(P[i], P[i].T)\n",
    "    P_yy = np.dot(P[i].T, P[i])\n",
    "    _,ax=plt.subplots(figsize=(20,5),nrows=1,ncols=3)\n",
    "\n",
    "    ax[0].set_title(\"P histogram for epsilon: \"+str(epsilons[i]))\n",
    "\n",
    "    ax[0].hist(P[i].flatten(), 20)\n",
    "    ax[0].set_xscale(\"log\")\n",
    "    ax[0].set_yscale(\"log\")\n",
    "    ax[1].set_title(\"P_xx flattened and e: \"+str(epsilons[i]))\n",
    "    ax[1].hist( P_xx.flatten(), 20, cumulative=False)\n",
    "    ax[1].set_xscale(\"log\")\n",
    "    ax[1].set_yscale(\"log\")\n",
    "    \n",
    "    ax[2].set_title(\"P_yy flattened and e: \"+str(epsilons[i]))\n",
    "    ax[2].hist( P_yy.flatten(), 20, cumulative=False)\n",
    "    ax[2].set_xscale(\"log\")\n",
    "    ax[2].set_yscale(\"log\")\n",
    "    plt.show()\n",
    "    print(\"\\n \\n\")\n",
    "    "
   ]
  },
  {
   "cell_type": "markdown",
   "metadata": {},
   "source": [
    "### Compute the cutoffs"
   ]
  },
  {
   "cell_type": "code",
   "execution_count": null,
   "metadata": {},
   "outputs": [],
   "source": [
    "q=0.8\n",
    "cutoff_x=[]\n",
    "cutoff_y=[]\n",
    "for i in range(n):\n",
    "    cutoff_x.append(np.quantile(np.dot(P[0],P[0].T).flatten(),q))\n",
    "    cutoff_y.append(np.quantile(np.dot(P[0].T,P[0]).flatten(),q))\n"
   ]
  },
  {
   "cell_type": "markdown",
   "metadata": {},
   "source": [
    "## Cuthill Mckee"
   ]
  },
  {
   "cell_type": "code",
   "execution_count": null,
   "metadata": {},
   "outputs": [],
   "source": [
    "for i in range(n):\n",
    "    CuthillMckee=computational_OT._Expcuthill_mckee(P[i])\n",
    "    CuthillMckee._evaluate(cut_offx=cutoff_x[i],cut_offy=cutoff_y[i],epsilon=epsilons[i])\n"
   ]
  },
  {
   "cell_type": "markdown",
   "metadata": {},
   "source": [
    "## Errors for different epsilons"
   ]
  },
  {
   "cell_type": "code",
   "execution_count": null,
   "metadata": {},
   "outputs": [],
   "source": [
    "# Plot\n",
    "plt.figure(figsize = (15,6))\n",
    "\n",
    "#plt.subplot(2,1,1),\n",
    "plt.title(\"$||P1 -a||_1 + ||P^T 1 -b||_1$\")\n",
    "for i in range(n):\n",
    "    error_hybrid   = np.asarray(outS[i][2]) + np.asarray(outS[i][3])\n",
    "    plt.plot( error_hybrid,label='Sinkhorn for $\\epsilon=$'+ str(epsilons[i]), linewidth = 2)\n",
    "\n",
    "plt.xlabel(\"Number of iterations\")\n",
    "plt.ylabel(\"Error in log-scale\")\n",
    "plt.legend()\n",
    "plt.yscale( 'log')\n",
    "plt.show()"
   ]
  },
  {
   "cell_type": "markdown",
   "metadata": {},
   "source": [
    "### Nested Disection"
   ]
  },
  {
   "cell_type": "code",
   "execution_count": null,
   "metadata": {},
   "outputs": [],
   "source": [
    "for i in range(n):\n",
    "    nd=computational_OT.NestedDisection(P[i],stopdim=2)\n",
    "    nd._evaluate(cutoff_x[i],cutoff_y[i],epsilons[i])"
   ]
  },
  {
   "cell_type": "markdown",
   "metadata": {},
   "source": [
    "### ANNULUS"
   ]
  },
  {
   "cell_type": "code",
   "execution_count": null,
   "metadata": {},
   "outputs": [],
   "source": [
    "N=[400,400]"
   ]
  },
  {
   "cell_type": "markdown",
   "metadata": {},
   "source": [
    "### Sampled Annulus"
   ]
  },
  {
   "cell_type": "code",
   "execution_count": null,
   "metadata": {},
   "outputs": [],
   "source": [
    "from os import XATTR_REPLACE\n",
    "\n",
    "\n",
    "random = 0.05*np.random.normal(size=N[0])\n",
    "random2 = np.floor(3*np.random.uniform(size=N[0]))/3\n",
    "biased_unif = (random + random2) % 1\n",
    "theta   = 2*np.pi*biased_unif\n",
    "r=1.0\n",
    "X=np.vstack((np.cos(theta)*r,np.sin(theta)*r))"
   ]
  },
  {
   "cell_type": "markdown",
   "metadata": {},
   "source": [
    "### Rotated Annulus"
   ]
  },
  {
   "cell_type": "code",
   "execution_count": null,
   "metadata": {},
   "outputs": [],
   "source": [
    "Y=np.vstack((np.cos(theta+(np.pi/2))*r,np.sin(theta+(np.pi/2))*r))\n"
   ]
  },
  {
   "cell_type": "code",
   "execution_count": null,
   "metadata": {},
   "outputs": [],
   "source": [
    "_,ax=plt.subplots(figsize=(10,5),nrows=1,ncols=2)\n",
    "\n",
    "plotp(X, 'b',ax[0],scale=50, edgecolors=(0,0,0,0))\n",
    "plotp(Y, 'r',ax[1],scale=50, edgecolors=(0,0,0,0))\n",
    "\n",
    "ax[0].axis(\"off\")\n",
    "ax[1].axis(\"off\")\n",
    "\n",
    "# ax[0].xlim(np.min(x[0,:])-.1,np.max(x[0,:])+.1)\n",
    "# ax[1].ylim(np.min(y[1,:])-.1,np.max(y[1,:])+.1)\n",
    "\n",
    "plt.show()\n"
   ]
  },
  {
   "cell_type": "code",
   "execution_count": null,
   "metadata": {},
   "outputs": [],
   "source": [
    "C = distmat(X,Y)\n",
    "\n",
    "\n",
    "\n",
    "# a and b\n",
    "a = normalize(np.ones(N[0]))\n",
    "a=a.reshape(a.shape[0],-1)\n",
    "b = normalize(np.ones(N[1]))\n",
    "b=b.reshape(b.shape[0],-1)"
   ]
  },
  {
   "cell_type": "code",
   "execution_count": null,
   "metadata": {},
   "outputs": [],
   "source": [
    "epsilon = .05\n",
    "K = np.exp(-C/epsilon)\n",
    "u=np.ones(N[0])\n",
    "v = np.ones(N[1])\n",
    "\n",
    "\n",
    "SOptimizer=computational_OT.Sinkhorn(K,a,b,u,v,epsilon)\n",
    "outS=SOptimizer._update(maxiter=1000)\n",
    "\n",
    "\n",
    "# Plot\n",
    "plt.figure(figsize = (12,12))\n",
    "\n",
    "plt.subplot(2,1,1),\n",
    "plt.title(\"$||P1 -a||_1$\")\n",
    "plt.plot( np.asarray(outS[2]), linewidth = 2)\n",
    "plt.yscale('log')\n",
    "plt.ylabel(\"Error in log scale\")\n",
    "plt.xlabel(\"Number of iterations\")\n",
    "plt.legend([\"Sample size: \"+str(i)+\" and Epsilon=\"+str(epsilon) for i in N],loc=\"upper right\")\n",
    "\n",
    "plt.subplot(2,1,2)\n",
    "plt.title(\"$||P^T 1 -b||_1$\")\n",
    "plt.plot( np.asarray(outS[3]), linewidth = 2)\n",
    "plt.yscale('log')\n",
    "plt.ylabel(\"Error in log scale\")\n",
    "plt.xlabel(\"Number of iterations\")\n",
    "plt.legend([\"Sample size: \"+str(i)+\" and Epsilon=\"+str(epsilon) for i in N],loc=\"upper right\")\n",
    "plt.show()"
   ]
  },
  {
   "cell_type": "code",
   "execution_count": null,
   "metadata": {},
   "outputs": [],
   "source": [
    "P = outS[0]*K*(outS[1].T)"
   ]
  },
  {
   "cell_type": "code",
   "execution_count": null,
   "metadata": {},
   "outputs": [],
   "source": [
    "plt.figure(figsize=(8,8))\n",
    "\n",
    "plotp(X, 'b',plt,scale=50, edgecolors=(0,0,0,0))\n",
    "plotp(Y, 'r',plt,scale=50, edgecolors=(0,0,0,0))\n",
    "\n",
    "\n",
    "A = P * (P > np.max(P)*.01)\n",
    "i,j = np.where(A != 0)\n",
    "plt.plot([X[0,i],Y[0,j]],[X[1,i],Y[1,j]],'k',lw = 2)\n",
    "\n",
    "\n",
    "A = P * (np.max(P)*.5 > P)* (P > np.max(P)*.1)\n",
    "i,j = np.where(A != 0)\n",
    "plt.plot([X[0,i],Y[0,j]],[X[1,i],Y[1,j]],'g',lw = 0.1)\n",
    "\n",
    "plt.axis(\"off\")\n",
    "plt.xlim(np.min(Y[0,:])-.1,np.max(Y[0,:])+.1)\n",
    "plt.ylim(np.min(Y[1,:])-.1,np.max(Y[1,:])+.1)\n",
    "\n",
    "plt.show()"
   ]
  },
  {
   "cell_type": "code",
   "execution_count": null,
   "metadata": {},
   "outputs": [],
   "source": []
  }
 ],
 "metadata": {
  "kernelspec": {
   "display_name": "Python 3.7.6 ('.venv_computational-OT': venv)",
   "language": "python",
   "name": "python3"
  },
  "language_info": {
   "codemirror_mode": {
    "name": "ipython",
    "version": 3
   },
   "file_extension": ".py",
   "mimetype": "text/x-python",
   "name": "python",
   "nbconvert_exporter": "python",
   "pygments_lexer": "ipython3",
   "version": "3.7.6"
  },
  "vscode": {
   "interpreter": {
    "hash": "75f246988ec4f21131973b50967f69fae3637271f5aa66bb961d71fec43f87c6"
   }
  }
 },
 "nbformat": 4,
 "nbformat_minor": 1
}
