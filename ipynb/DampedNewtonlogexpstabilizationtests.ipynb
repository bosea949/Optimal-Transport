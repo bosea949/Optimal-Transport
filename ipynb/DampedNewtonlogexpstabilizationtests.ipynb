{
 "cells": [
  {
   "cell_type": "code",
   "execution_count": 10,
   "metadata": {},
   "outputs": [
    {
     "name": "stdout",
     "output_type": "stream",
     "text": [
      "The autoreload extension is already loaded. To reload it, use:\n",
      "  %reload_ext autoreload\n"
     ]
    }
   ],
   "source": [
    "from __future__ import division\n",
    "import os\n",
    "import numpy as np\n",
    "import time\n",
    "import matplotlib.pyplot as plt\n",
    "import scipy as scp\n",
    "import pylab as pyl\n",
    "\n",
    "import warnings\n",
    "warnings.filterwarnings('ignore')\n",
    "np.random.seed(1234)\n",
    "\n",
    "%matplotlib inline\n",
    "%load_ext autoreload                                                                                                                                                                                                \n",
    "%autoreload "
   ]
  },
  {
   "cell_type": "code",
   "execution_count": 11,
   "metadata": {},
   "outputs": [
    {
     "name": "stdout",
     "output_type": "stream",
     "text": [
      "The autoreload extension is already loaded. To reload it, use:\n",
      "  %reload_ext autoreload\n"
     ]
    }
   ],
   "source": [
    "%load_ext autoreload\n",
    "%autoreload 2"
   ]
  },
  {
   "cell_type": "code",
   "execution_count": 12,
   "metadata": {},
   "outputs": [],
   "source": [
    "if not os.path.isdir('DampedNewtonlogexpstabilizationtests_images'):\n",
    "    os.makedirs('DampedNewtonlogexpstabilizationtests_images')"
   ]
  },
  {
   "cell_type": "code",
   "execution_count": 13,
   "metadata": {},
   "outputs": [],
   "source": [
    "\"\"\"To compute distance matrix\"\"\"\n",
    "def distmat(x,y):\n",
    "    return np.sum( x**2,0 )[:,None] + np.sum( y**2,0 )[None,:] - 2*x.transpose().dot(y)\n",
    "\n",
    "\"\"\"To Normalise a vector\"\"\"\n",
    "normalize = lambda a: a/np.sum( a )\n",
    "\n",
    "\"\"\"To Compute P\"\"\"\n",
    "def GetP(u,K,v):\n",
    "    u = u.reshape(u.shape[0],)\n",
    "    v = v.reshape(v.shape[0],)\n",
    "    return u[:,None]*K*v[None,:]\n",
    "\n",
    "def plotp(x, col,plt, scale=200, edgecolors=\"k\"):\n",
    "  return plt.scatter( x[0,:], x[1,:], s=scale, edgecolors=edgecolors,  c=col, cmap='plasma', linewidths=2 )"
   ]
  },
  {
   "cell_type": "code",
   "execution_count": 14,
   "metadata": {},
   "outputs": [],
   "source": [
    "def generate_data(N):\n",
    "    \"\"\"\n",
    "     N is a list of the size of the data on x and y\n",
    "    \"\"\"\n",
    "    x = np.random.rand( 2,N[0] )-0.5\n",
    "    theta = 2*np.pi*np.random.rand( 1,N[1] )\n",
    "    r = 0.8+.2*np.random.rand( 1,N[1] )\n",
    "    y = np.vstack( ( r*np.cos( theta ),r*np.sin( theta ) ) )\n",
    "    return x,y\n"
   ]
  },
  {
   "cell_type": "code",
   "execution_count": 15,
   "metadata": {},
   "outputs": [],
   "source": [
    "N = [ 1000,1500 ]\n",
    "x,y = generate_data(N)"
   ]
  },
  {
   "cell_type": "code",
   "execution_count": 16,
   "metadata": {},
   "outputs": [],
   "source": [
    "import computational_OT"
   ]
  },
  {
   "cell_type": "code",
   "execution_count": 17,
   "metadata": {},
   "outputs": [],
   "source": [
    "epsilons = [ 1.0, 0.5, 0.3, 0.1, 0.09, 0.05, 0.03,0.02,0.01, 0.001 ]\n"
   ]
  },
  {
   "attachments": {},
   "cell_type": "markdown",
   "metadata": {},
   "source": [
    "## Sinkhorn"
   ]
  },
  {
   "cell_type": "code",
   "execution_count": 9,
   "metadata": {},
   "outputs": [
    {
     "name": "stdout",
     "output_type": "stream",
     "text": [
      "Sinkhorn.... \n",
      "Doing for ( 1000 1500 ).\n",
      " |- Iterating\n",
      "Terminating after iteration:  11\n",
      " |- Computing P\n",
      "\n",
      "Doing for ( 1000 1500 ).\n",
      " |- Iterating\n",
      "Terminating after iteration:  19\n",
      " |- Computing P\n",
      "\n",
      "Doing for ( 1000 1500 ).\n",
      " |- Iterating\n",
      "Terminating after iteration:  33\n",
      " |- Computing P\n",
      "\n",
      "Doing for ( 1000 1500 ).\n",
      " |- Iterating\n",
      "Terminating after iteration:  108\n",
      " |- Computing P\n",
      "\n",
      "Doing for ( 1000 1500 ).\n",
      " |- Iterating\n",
      "Terminating after iteration:  120\n",
      " |- Computing P\n",
      "\n",
      "Doing for ( 1000 1500 ).\n",
      " |- Iterating\n",
      "Terminating after iteration:  222\n",
      " |- Computing P\n",
      "\n",
      "Doing for ( 1000 1500 ).\n",
      " |- Iterating\n",
      "Terminating after iteration:  378\n",
      " |- Computing P\n",
      "\n",
      "Doing for ( 1000 1500 ).\n",
      " |- Iterating\n",
      "Terminating after iteration:  576\n",
      " |- Computing P\n",
      "\n",
      "Doing for ( 1000 1500 ).\n",
      " |- Iterating\n"
     ]
    },
    {
     "ename": "KeyboardInterrupt",
     "evalue": "",
     "output_type": "error",
     "traceback": [
      "\u001b[0;31m---------------------------------------------------------------------------\u001b[0m",
      "\u001b[0;31mKeyboardInterrupt\u001b[0m                         Traceback (most recent call last)",
      "Cell \u001b[0;32mIn[9], line 34\u001b[0m\n\u001b[1;32m     32\u001b[0m start \u001b[39m=\u001b[39m time\u001b[39m.\u001b[39mtime()\n\u001b[1;32m     33\u001b[0m Optimizer \u001b[39m=\u001b[39m computational_OT\u001b[39m.\u001b[39mSinkhorn( K,a,b,u,v,eps)\n\u001b[0;32m---> 34\u001b[0m out \u001b[39m=\u001b[39m Optimizer\u001b[39m.\u001b[39;49m_update(maxiter\u001b[39m=\u001b[39;49m\u001b[39m10000\u001b[39;49m)\n\u001b[1;32m     35\u001b[0m results_Sinkhorn\u001b[39m.\u001b[39mappend( out )\n\u001b[1;32m     36\u001b[0m end \u001b[39m=\u001b[39m time\u001b[39m.\u001b[39mtime()\n",
      "File \u001b[0;32m~/work/Computational-OT-dev/computational-OT/computational_OT/sinkhorn.py:39\u001b[0m, in \u001b[0;36mSinkhorn._update\u001b[0;34m(self, tol, maxiter)\u001b[0m\n\u001b[1;32m     36\u001b[0m \u001b[39mself\u001b[39m\u001b[39m.\u001b[39merr_b\u001b[39m.\u001b[39mappend(Lin\u001b[39m.\u001b[39mnorm(r \u001b[39m-\u001b[39m \u001b[39mself\u001b[39m\u001b[39m.\u001b[39mb))\n\u001b[1;32m     38\u001b[0m \u001b[39m# sinkhorn step 2\u001b[39;00m\n\u001b[0;32m---> 39\u001b[0m \u001b[39mself\u001b[39m\u001b[39m.\u001b[39mv \u001b[39m=\u001b[39m \u001b[39mself\u001b[39m\u001b[39m.\u001b[39mb \u001b[39m/\u001b[39m np\u001b[39m.\u001b[39;49mdot( \u001b[39mself\u001b[39;49m\u001b[39m.\u001b[39;49mK\u001b[39m.\u001b[39;49mT, \u001b[39mself\u001b[39;49m\u001b[39m.\u001b[39;49mu )\n\u001b[1;32m     41\u001b[0m \u001b[39m# error computation 2\u001b[39;00m\n\u001b[1;32m     42\u001b[0m s \u001b[39m=\u001b[39m \u001b[39mself\u001b[39m\u001b[39m.\u001b[39mu\u001b[39m*\u001b[39mnp\u001b[39m.\u001b[39mdot( \u001b[39mself\u001b[39m\u001b[39m.\u001b[39mK, \u001b[39mself\u001b[39m\u001b[39m.\u001b[39mv )\n",
      "File \u001b[0;32m<__array_function__ internals>:200\u001b[0m, in \u001b[0;36mdot\u001b[0;34m(*args, **kwargs)\u001b[0m\n",
      "\u001b[0;31mKeyboardInterrupt\u001b[0m: "
     ]
    }
   ],
   "source": [
    "# Sinkhorn\n",
    "print(\"Sinkhorn.... \")\n",
    "SinkhornP = []\n",
    "results_Sinkhorn = []\n",
    "times_Sinkhorn = []\n",
    "Pmatrix_dist_linVSsinkhorn = []\n",
    "for eps in epsilons:\n",
    "\n",
    "  \n",
    "  #Cost matrix\n",
    "  C = distmat(x,y)\n",
    "  \n",
    "  # a and b\n",
    "  a = normalize(np.ones(N[0]))\n",
    "  a = a.reshape(a.shape[0],-1)\n",
    "  b = normalize(np.ones(N[1]))\n",
    "  b = b.reshape(b.shape[0],-1)\n",
    "\n",
    "\n",
    "\n",
    "  #Kernel\n",
    "  K = np.exp(-C/eps)\n",
    "\n",
    "\n",
    "  print( \"Doing for (\",N[0],N[1],\").\" )\n",
    "  print( \" |- Iterating\" )\n",
    "\n",
    "  #Inflating\n",
    "  u = a\n",
    "  v = b\n",
    "\n",
    "  start = time.time()\n",
    "  Optimizer = computational_OT.Sinkhorn( K,a,b,u,v,eps)\n",
    "  out = Optimizer._update(maxiter=10000)\n",
    "  results_Sinkhorn.append( out )\n",
    "  end = time.time()\n",
    "  times_Sinkhorn.append(1e-3*(end-start) )\n",
    "  print( \" |- Computing P\" )\n",
    "  print( \"\" )\n",
    "  SinkhornP.append( GetP( out['u'],K,out['v'] ) )\n",
    "  "
   ]
  },
  {
   "cell_type": "code",
   "execution_count": null,
   "metadata": {},
   "outputs": [],
   "source": [
    "plt.figure( figsize = (20,7) )\n",
    "\n",
    "plt.subplot(2,1,1),\n",
    "plt.title( \"$||P1 -a||_1+||P1 -b||_1$\" )\n",
    "for i in range( len(results_Sinkhorn) ):\n",
    "  error=np.asarray( results_Sinkhorn[i]['error_a'] )+np.asarray( results_Sinkhorn[i]['error_b'] )\n",
    "  plt.plot( error,label = 'Sinkhorn for $\\epsilon=$'+ str(epsilons[i]), linewidth = 2 )\n",
    "plt.yscale( 'log' )\n",
    "plt.legend()\n",
    "plt.xlabel(\"Iterations\")\n",
    "plt.ylabel(\"Error in log-scale\")\n",
    "\n",
    "plt.savefig(\"DampedNewtonlogexpstabilizationtests_images/ConvergenceSinkhornvaryingepsilon.png\")\n",
    "plt.show()"
   ]
  },
  {
   "attachments": {},
   "cell_type": "markdown",
   "metadata": {},
   "source": [
    "## Damped Newton with log-exp stabilization"
   ]
  },
  {
   "cell_type": "code",
   "execution_count": null,
   "metadata": {},
   "outputs": [],
   "source": [
    "rho = 0.95\n",
    "c = 0.05\n",
    "DampedNewtonP = []\n",
    "results_DampedNewton  = []\n",
    "times_DampedNewton    = []\n",
    "Hessians_DampedNewton = []\n",
    "\n",
    "#epsilons=[0.05,0.08,0.1]\n",
    "\n",
    "noise = [0,0,0,0,0,0,0,1e-8,1e-8,1e-4]\n",
    "# epsilons=[0.02]\n",
    "for eps in range(len(epsilons)):\n",
    "    \n",
    "    # Line Search\n",
    "    print( \"Damped Newton for epsilon = \"+str(epsilons[eps])+\":\" )    \n",
    "    #Cost matrix\n",
    "    C = distmat(x,y)\n",
    "\n",
    "    # a and b\n",
    "    a = normalize( np.ones( N[0] ) )\n",
    "    a = a.reshape( a.shape[0],-1 )\n",
    "    b = normalize( np.ones( N[1] ) )\n",
    "    b = b.reshape( b.shape[0],-1 )\n",
    "\n",
    "    #Kernel\n",
    "    K = np.exp(-C/epsilons[eps])\n",
    "    f,g = a,b\n",
    "\n",
    "    print( \"Doing for (\",N[0],N[1],\").\" )\n",
    "    print( \" |- Iterating\" )  \n",
    "    start = time.time()\n",
    "    Optimizer = computational_OT.DampedNewtonLogexp( K,a,b,f,g,epsilons[eps],rho,c )\n",
    "    out = Optimizer._update( stabilize = 1, stabilization_noise = noise[eps], maxiter = 50 )\n",
    "    results_DampedNewton.append( out )\n",
    "    end = time.time()\n",
    "    times_DampedNewton.append( 1e-3*(end-start) )\n",
    "    print( \" |- Computing P\" )\n",
    "    DampedNewtonP.append( GetP(np.exp(out['potential_f']/epsilons[eps]),K,np.exp(out['potential_g']/epsilons[eps])) )\n",
    "    print( \" |- Recording (unstabilized) Hessian \\n\" )\n",
    "\n",
    "    mat  = -epsilons[eps]*Optimizer.Hessian\n",
    "    diag = 1/np.sqrt( np.vstack( (a,b) ) ).flatten()\n",
    "    mat = diag[:,None]*mat*diag[None,:]\n",
    "    Hessians_DampedNewton.append( mat )\n"
   ]
  },
  {
   "cell_type": "code",
   "execution_count": null,
   "metadata": {},
   "outputs": [],
   "source": [
    "plt.figure( figsize = (20,7) )\n",
    "plt.title( \"$$\" )\n",
    "plt.title( \"$||P1 -a||_1+||P^T 1 -b||_1$\" )\n",
    "\n",
    "for i in range(len(results_DampedNewton)):\n",
    "  error = np.asarray( results_DampedNewton[i]['error_a'] )+np.asarray( results_DampedNewton[i]['error_b'] )\n",
    "  plt.plot( error,label='Damped Newton for $\\epsilon=$'+ str(epsilons[i]), linewidth = 2 )\n",
    "\n",
    "plt.xlabel( \"Number of iterations\" )\n",
    "plt.ylabel( \"Error in log-scale\" )\n",
    "plt.legend()\n",
    "plt.yscale( 'log' )\n",
    "plt.savefig( \"DampedNewtonlogexpstabilizationtests_images/ErrorDampedNewton.png\" )\n",
    "plt.show()\n",
    "print( \"\\n Error plots can increase! The error is not the objective function!\" )"
   ]
  },
  {
   "cell_type": "code",
   "execution_count": null,
   "metadata": {},
   "outputs": [],
   "source": [
    "plt.figure( figsize = (20,7) )\n",
    "plt.title( \"$$\" )\n",
    "\n",
    "plt.title( \"Objective Function\" )\n",
    "for i in range(len(results_DampedNewton)):\n",
    "  plt.plot( np.asarray( results_DampedNewton[i][\"objectives\"] ),label='Damped Newton for $\\epsilon=$'+ str(epsilons[i]), linewidth = 2 )\n",
    "\n",
    "plt.xlabel( \"Number of iterations\" )\n",
    "plt.ylabel( \"Objective value\" )\n",
    "plt.legend()\n",
    "plt.savefig(\"DampedNewtonlogexpstabilizationtests_images/ObjectiveDampedNewton.png\")\n",
    "plt.show()\n"
   ]
  },
  {
   "cell_type": "code",
   "execution_count": null,
   "metadata": {},
   "outputs": [],
   "source": [
    "plt.figure( figsize = (20,7) )\n",
    "plt.subplot(2,1,1),\n",
    "plt.title( \"Alpha\" )\n",
    "\n",
    "for i in range(len(results_DampedNewton)):\n",
    "  plt.plot( np.asarray( results_DampedNewton[i]['linesearch_steps'] ),label='Damped Newton for $\\epsilon=$'+ str(epsilons[i]), linewidth = 2 )\n",
    "\n",
    "plt.xlabel( \"Number of iterations\" )\n",
    "plt.ylabel( \"Alpha in log-scale\" )\n",
    "plt.legend()\n",
    "# plt.yscale( 'log')\n",
    "plt.savefig(\"DampedNewtonlogexpstabilizationtests_images/AlphaDampedNewton.png\")\n",
    "plt.show()"
   ]
  },
  {
   "attachments": {},
   "cell_type": "markdown",
   "metadata": {},
   "source": [
    "### Time plot of Sinkhorn vs Damped Newton"
   ]
  },
  {
   "cell_type": "code",
   "execution_count": null,
   "metadata": {},
   "outputs": [],
   "source": [
    "plt.figure( figsize = (20,7) )\n",
    "\n",
    "plt.subplot(2,1,1),\n",
    "plt.title( \"Time Plot\" )\n",
    "plt.plot( epsilons,times_Sinkhorn, linewidth = 2,marker = 'o' )\n",
    "plt.plot( epsilons,times_DampedNewton, linewidth = 2,marker = 'o'  )\n",
    "\n",
    "\n",
    "plt.legend(['Sinkhorn Time','Damped Newton Time'])\n",
    "plt.xlabel(\"$\\epsilon$\")\n",
    "plt.ylabel(\"Time in ms\")\n",
    "\n",
    "plt.savefig(\"DampedNewtonlogexpstabilizationtests_images/Timeplot_SinkhornvsDampedNewton.png\")\n",
    "plt.show()"
   ]
  },
  {
   "cell_type": "code",
   "execution_count": null,
   "metadata": {},
   "outputs": [],
   "source": [
    "def spectral_decomposition(mat):\n",
    "    eig, v = np.linalg.eigh( mat )\n",
    "    sorting_indices = np.argsort(eig)\n",
    "    eig = eig[sorting_indices]\n",
    "    v   = v[:, sorting_indices]\n",
    "    \n",
    "    print( \"List of smallest eigenvalues: \", eig[:10])\n",
    "    print( \"List of largest  eigenvalues: \", eig[-10:])\n",
    "\n",
    "    return eig,v"
   ]
  },
  {
   "cell_type": "code",
   "execution_count": null,
   "metadata": {},
   "outputs": [],
   "source": [
    "eigs = []\n",
    "eigvecs = []\n",
    "for i in range( len(epsilons) ) :\n",
    "    eps = epsilons[i]\n",
    "    print( \"Spectral statistics of Hessian for epsilon=\"+str(eps) )\n",
    "    ev = spectral_decomposition( Hessians_DampedNewton[i] )\n",
    "    eigs.append( ev[0] )\n",
    "    eigvecs.append( ev[1] )\n",
    "    print(\"\")\n"
   ]
  },
  {
   "cell_type": "code",
   "execution_count": null,
   "metadata": {},
   "outputs": [],
   "source": [
    "fig,ax = plt.subplots( figsize=(30,3),nrows=1, ncols=len(epsilons), sharey=True )\n",
    "plt.title( \"Histogram of eigenvalues.\" )\n",
    "for i in range( len(epsilons) ):\n",
    "    ax[i].hist( eigs[i], 50 )\n",
    "    ax[i].set_title( \" $\\epsilon$: \"+str(epsilons[i]) )\n",
    "    ax[i].set_xlabel( \"Eigenvalues\" )\n",
    "    ax[i].set_yscale( \"log\" )\n",
    "plt.subplots_adjust( wspace=0,hspace=0 )\n",
    "plt.savefig(\"DampedNewtonlogexpstabilizationtests_images/eigenhistunstabilized.png\")\n",
    "plt.show()"
   ]
  },
  {
   "cell_type": "code",
   "execution_count": null,
   "metadata": {},
   "outputs": [],
   "source": []
  },
  {
   "attachments": {},
   "cell_type": "markdown",
   "metadata": {},
   "source": [
    "## Compare Damped Newton with or without stabilization"
   ]
  },
  {
   "attachments": {},
   "cell_type": "markdown",
   "metadata": {},
   "source": [
    "### Without Stabilization"
   ]
  },
  {
   "cell_type": "code",
   "execution_count": 18,
   "metadata": {},
   "outputs": [
    {
     "name": "stdout",
     "output_type": "stream",
     "text": [
      "Damped Newton for epsilon = 1.0:\n",
      "Doing for ( 1000 1500 ).\n",
      " |- Iterating\n",
      "Terminating after iteration:  18\n",
      " |- Computing P\n",
      " |- Recording (unstabilized) Hessian \n",
      "\n",
      "Damped Newton for epsilon = 0.5:\n",
      "Doing for ( 1000 1500 ).\n",
      " |- Iterating\n",
      "Terminating after iteration:  17\n",
      " |- Computing P\n",
      " |- Recording (unstabilized) Hessian \n",
      "\n",
      "Damped Newton for epsilon = 0.3:\n",
      "Doing for ( 1000 1500 ).\n",
      " |- Iterating\n",
      "Terminating after iteration:  17\n",
      " |- Computing P\n",
      " |- Recording (unstabilized) Hessian \n",
      "\n",
      "Damped Newton for epsilon = 0.1:\n",
      "Doing for ( 1000 1500 ).\n",
      " |- Iterating\n",
      "Terminating after iteration:  16\n",
      " |- Computing P\n",
      " |- Recording (unstabilized) Hessian \n",
      "\n",
      "Damped Newton for epsilon = 0.09:\n",
      "Doing for ( 1000 1500 ).\n",
      " |- Iterating\n",
      "Terminating after iteration:  16\n",
      " |- Computing P\n",
      " |- Recording (unstabilized) Hessian \n",
      "\n",
      "Damped Newton for epsilon = 0.05:\n",
      "Doing for ( 1000 1500 ).\n",
      " |- Iterating\n",
      "Terminating after iteration:  16\n",
      " |- Computing P\n",
      " |- Recording (unstabilized) Hessian \n",
      "\n",
      "Damped Newton for epsilon = 0.03:\n",
      "Doing for ( 1000 1500 ).\n",
      " |- Iterating\n",
      "Terminating after iteration:  19\n",
      " |- Computing P\n",
      " |- Recording (unstabilized) Hessian \n",
      "\n"
     ]
    }
   ],
   "source": [
    "rho = 0.95\n",
    "c = 0.05\n",
    "DampedNewtonP = []\n",
    "results_DampedNewton  = []\n",
    "times_DampedNewton    = []\n",
    "Hessians_DampedNewton = []\n",
    "\n",
    "#epsilons=[0.05,0.08,0.1]\n",
    "epsilons = [1.0, 0.5, 0.3, 0.1, 0.09, 0.05, 0.03]\n",
    "\n",
    "noise = [0,0,0,0,0,0,0,1e-8,1e-8,1e-4]\n",
    "# epsilons=[0.02]\n",
    "for eps in range(len(epsilons)):\n",
    "    \n",
    "    # Line Search\n",
    "    print( \"Damped Newton for epsilon = \"+str(epsilons[eps])+\":\" )    \n",
    "    #Cost matrix\n",
    "    C = distmat(x,y)\n",
    "\n",
    "    # a and b\n",
    "    a = normalize( np.ones( N[0] ) )\n",
    "    a = a.reshape( a.shape[0],-1 )\n",
    "    b = normalize( np.ones( N[1] ) )\n",
    "    b = b.reshape( b.shape[0],-1 )\n",
    "\n",
    "    #Kernel\n",
    "    K = np.exp(-C/epsilons[eps])\n",
    "    f,g = a,b\n",
    "\n",
    "    print( \"Doing for (\",N[0],N[1],\").\" )\n",
    "    print( \" |- Iterating\" )  \n",
    "    start = time.time()\n",
    "    Optimizer = computational_OT.DampedNewtonLogexp( K,a,b,f,g,epsilons[eps],rho,c )\n",
    "    out = Optimizer._update( stabilize = 0, stabilization_noise = noise[eps], maxiter = 50 )\n",
    "    results_DampedNewton.append( out )\n",
    "    end = time.time()\n",
    "    times_DampedNewton.append( 1e-3*(end-start) )\n",
    "    print( \" |- Computing P\" )\n",
    "    DampedNewtonP.append( GetP(np.exp(out['potential_f']/epsilons[eps]),K,np.exp(out['potential_g']/epsilons[eps])) )\n",
    "    print( \" |- Recording (unstabilized) Hessian \\n\" )\n",
    "\n",
    "    mat  = -epsilons[eps]*Optimizer.Hessian\n",
    "    diag = 1/np.sqrt( np.vstack( (a,b) ) ).flatten()\n",
    "    mat = diag[:,None]*mat*diag[None,:]\n",
    "    Hessians_DampedNewton.append( mat )\n"
   ]
  },
  {
   "cell_type": "code",
   "execution_count": 19,
   "metadata": {},
   "outputs": [],
   "source": [
    "f1, g1 = [], []\n",
    "for i in range(len(results_DampedNewton)):\n",
    "    f1.append(results_DampedNewton[i]['potential_f'])\n",
    "    g1.append(results_DampedNewton[i]['potential_g'])"
   ]
  },
  {
   "attachments": {},
   "cell_type": "markdown",
   "metadata": {},
   "source": [
    "### with exp-log stabilization"
   ]
  },
  {
   "cell_type": "code",
   "execution_count": 20,
   "metadata": {},
   "outputs": [
    {
     "name": "stdout",
     "output_type": "stream",
     "text": [
      "Damped Newton for epsilon = 1.0:\n",
      "Doing for ( 1000 1500 ).\n",
      " |- Iterating\n",
      "Terminating after iteration:  18\n",
      " |- Computing P\n",
      " |- Recording (unstabilized) Hessian \n",
      "\n",
      "Damped Newton for epsilon = 0.5:\n",
      "Doing for ( 1000 1500 ).\n",
      " |- Iterating\n",
      "Terminating after iteration:  17\n",
      " |- Computing P\n",
      " |- Recording (unstabilized) Hessian \n",
      "\n",
      "Damped Newton for epsilon = 0.3:\n",
      "Doing for ( 1000 1500 ).\n",
      " |- Iterating\n",
      "Terminating after iteration:  17\n",
      " |- Computing P\n",
      " |- Recording (unstabilized) Hessian \n",
      "\n",
      "Damped Newton for epsilon = 0.1:\n",
      "Doing for ( 1000 1500 ).\n",
      " |- Iterating\n",
      "Terminating after iteration:  16\n",
      " |- Computing P\n",
      " |- Recording (unstabilized) Hessian \n",
      "\n",
      "Damped Newton for epsilon = 0.09:\n",
      "Doing for ( 1000 1500 ).\n",
      " |- Iterating\n",
      "Terminating after iteration:  16\n",
      " |- Computing P\n",
      " |- Recording (unstabilized) Hessian \n",
      "\n",
      "Damped Newton for epsilon = 0.05:\n",
      "Doing for ( 1000 1500 ).\n",
      " |- Iterating\n",
      "Terminating after iteration:  16\n",
      " |- Computing P\n",
      " |- Recording (unstabilized) Hessian \n",
      "\n",
      "Damped Newton for epsilon = 0.03:\n",
      "Doing for ( 1000 1500 ).\n",
      " |- Iterating\n",
      "Terminating after iteration:  17\n",
      " |- Computing P\n",
      " |- Recording (unstabilized) Hessian \n",
      "\n"
     ]
    }
   ],
   "source": [
    "rho = 0.95\n",
    "c = 0.05\n",
    "DampedNewtonP = []\n",
    "results_DampedNewton  = []\n",
    "times_DampedNewton    = []\n",
    "Hessians_DampedNewton = []\n",
    "\n",
    "#epsilons=[0.05,0.08,0.1]\n",
    "epsilons = [1.0, 0.5, 0.3, 0.1, 0.09, 0.05, 0.03]\n",
    "\n",
    "noise = [0,0,0,0,0,0,0]\n",
    "# epsilons=[0.02]\n",
    "for eps in range(len(epsilons)):\n",
    "    \n",
    "    # Line Search\n",
    "    print( \"Damped Newton for epsilon = \"+str(epsilons[eps])+\":\" )    \n",
    "    #Cost matrix\n",
    "    C = distmat(x,y)\n",
    "\n",
    "    # a and b\n",
    "    a = normalize( np.ones( N[0] ) )\n",
    "    a = a.reshape( a.shape[0],-1 )\n",
    "    b = normalize( np.ones( N[1] ) )\n",
    "    b = b.reshape( b.shape[0],-1 )\n",
    "\n",
    "    #Kernel\n",
    "    K = np.exp(-C/epsilons[eps])\n",
    "    f,g = a,b\n",
    "\n",
    "    print( \"Doing for (\",N[0],N[1],\").\" )\n",
    "    print( \" |- Iterating\" )  \n",
    "    start = time.time()\n",
    "    Optimizer = computational_OT.DampedNewtonLogexp( K,a,b,f,g,epsilons[eps],rho,c )\n",
    "    out = Optimizer._update( stabilize = 1, stabilization_noise = noise[eps], maxiter = 50 )\n",
    "    results_DampedNewton.append( out )\n",
    "    end = time.time()\n",
    "    times_DampedNewton.append( 1e-3*(end-start) )\n",
    "    print( \" |- Computing P\" )\n",
    "    DampedNewtonP.append( GetP(np.exp(out['potential_f']/epsilons[eps]),K,np.exp(out['potential_g']/epsilons[eps])) )\n",
    "    print( \" |- Recording (unstabilized) Hessian \\n\" )\n",
    "\n",
    "    mat  = -epsilons[eps]*Optimizer.Hessian\n",
    "    diag = 1/np.sqrt( np.vstack( (a,b) ) ).flatten()\n",
    "    mat = diag[:,None]*mat*diag[None,:]\n",
    "    Hessians_DampedNewton.append( mat )\n"
   ]
  },
  {
   "cell_type": "code",
   "execution_count": 21,
   "metadata": {},
   "outputs": [],
   "source": [
    "f2, g2 = [], []\n",
    "for i in range(len(results_DampedNewton)):\n",
    "    f2.append(results_DampedNewton[i]['potential_f'])\n",
    "    g2.append(results_DampedNewton[i]['potential_g'])"
   ]
  },
  {
   "attachments": {},
   "cell_type": "markdown",
   "metadata": {},
   "source": [
    "#### Difference plot for potential from Damped Newton"
   ]
  },
  {
   "cell_type": "code",
   "execution_count": 22,
   "metadata": {},
   "outputs": [
    {
     "data": {
      "image/png": "[encoded data removed]",
      "text/plain": [
       "<Figure size 2000x700 with 1 Axes>"
      ]
     },
     "metadata": {},
     "output_type": "display_data"
    }
   ],
   "source": [
    "plt.figure( figsize = (20,7) )\n",
    "plt.title( \"$$\" )\n",
    "plt.title( \"Difference between potentials with and without regularization.\" )\n",
    "difference_f = [np.linalg.norm(f1[i]-f2[i]) for i in range(len(results_DampedNewton)) ]\n",
    "difference_g = [np.linalg.norm(g1[i]-g2[i]) for i in range(len(results_DampedNewton)) ]\n",
    "plt.plot(epsilons, difference_f, label = 'difference for potential f', linewidth = 2, marker= 'o' )\n",
    "plt.plot(epsilons, difference_g, label = 'difference for potential g', linewidth = 2, marker= 'o' )\n",
    "\n",
    "\n",
    "\n",
    "\n",
    "plt.xlabel(\"$\\epsilon$\")\n",
    "plt.ylabel( \"difference in log-scale\" )\n",
    "plt.legend()\n",
    "plt.yscale( 'log' )\n",
    "plt.show()"
   ]
  },
  {
   "cell_type": "code",
   "execution_count": null,
   "metadata": {},
   "outputs": [],
   "source": []
  },
  {
   "attachments": {},
   "cell_type": "markdown",
   "metadata": {},
   "source": [
    "## Compare Sinkhorn with or without stabilization"
   ]
  },
  {
   "attachments": {},
   "cell_type": "markdown",
   "metadata": {},
   "source": [
    "### Without Stabilization"
   ]
  },
  {
   "cell_type": "code",
   "execution_count": null,
   "metadata": {},
   "outputs": [
    {
     "name": "stdout",
     "output_type": "stream",
     "text": [
      "Sinkhorn.... \n",
      "Sinkhorn for epsilon = 1.0:\n",
      "Doing for ( 1000 1500 ).\n",
      " |- Iterating\n",
      "Terminating after iteration:  11\n",
      " |- Computing P\n",
      "\n",
      "Sinkhorn for epsilon = 0.5:\n",
      "Doing for ( 1000 1500 ).\n",
      " |- Iterating\n",
      "Terminating after iteration:  19\n",
      " |- Computing P\n",
      "\n",
      "Sinkhorn for epsilon = 0.3:\n",
      "Doing for ( 1000 1500 ).\n",
      " |- Iterating\n",
      "Terminating after iteration:  33\n",
      " |- Computing P\n",
      "\n",
      "Sinkhorn for epsilon = 0.1:\n",
      "Doing for ( 1000 1500 ).\n",
      " |- Iterating\n",
      "Terminating after iteration:  108\n",
      " |- Computing P\n",
      "\n",
      "Sinkhorn for epsilon = 0.09:\n",
      "Doing for ( 1000 1500 ).\n",
      " |- Iterating\n",
      "Terminating after iteration:  120\n",
      " |- Computing P\n",
      "\n",
      "Sinkhorn for epsilon = 0.05:\n",
      "Doing for ( 1000 1500 ).\n",
      " |- Iterating\n",
      "Terminating after iteration:  222\n",
      " |- Computing P\n",
      "\n",
      "Sinkhorn for epsilon = 0.03:\n",
      "Doing for ( 1000 1500 ).\n",
      " |- Iterating\n",
      "Terminating after iteration:  378\n",
      " |- Computing P\n",
      "\n",
      "Sinkhorn for epsilon = 0.02:\n",
      "Doing for ( 1000 1500 ).\n",
      " |- Iterating\n",
      "Terminating after iteration:  576\n",
      " |- Computing P\n",
      "\n",
      "Sinkhorn for epsilon = 0.001:\n",
      "Doing for ( 1000 1500 ).\n",
      " |- Iterating\n",
      "Terminating after iteration:  1001\n",
      " |- Computing P\n",
      "\n"
     ]
    }
   ],
   "source": [
    "# Sinkhorn\n",
    "print(\"Sinkhorn.... \")\n",
    "SinkhornP = []\n",
    "results_Sinkhorn = []\n",
    "times_Sinkhorn = []\n",
    "Pmatrix_dist_linVSsinkhorn = []\n",
    "epsilons = [1.0, 0.5, 0.3, 0.1, 0.09, 0.05, 0.03, 0.02,0.001]\n",
    "\n",
    "for eps in epsilons:\n",
    "\n",
    "  print( \"Sinkhorn for epsilon = \"+str(eps)+\":\" )    \n",
    "\n",
    "  #Cost matrix\n",
    "  C = distmat(x,y)\n",
    "  \n",
    "  # a and b\n",
    "  a = normalize(np.ones(N[0]))\n",
    "  a = a.reshape(a.shape[0],-1)\n",
    "  b = normalize(np.ones(N[1]))\n",
    "  b = b.reshape(b.shape[0],-1)\n",
    "\n",
    "\n",
    "\n",
    "  #Kernel\n",
    "  K = np.exp(-C/eps)\n",
    "\n",
    "\n",
    "  print( \"Doing for (\",N[0],N[1],\").\" )\n",
    "  print( \" |- Iterating\" )\n",
    "\n",
    "  #Inflating\n",
    "  u = a\n",
    "  v = b\n",
    "\n",
    "  start = time.time()\n",
    "  Optimizer = computational_OT.Sinkhorn( K,a,b,u,v,eps)\n",
    "  out = Optimizer._update(maxiter=1000)\n",
    "  results_Sinkhorn.append( out )\n",
    "  end = time.time()\n",
    "  times_Sinkhorn.append(1e-3*(end-start) )\n",
    "  print( \" |- Computing P\" )\n",
    "  print( \"\" )\n",
    "  SinkhornP.append( GetP( out['u'],K,out['v'] ) )\n",
    "  "
   ]
  },
  {
   "cell_type": "code",
   "execution_count": null,
   "metadata": {},
   "outputs": [],
   "source": [
    "u1, v1 = [], []\n",
    "for i in range(len(results_Sinkhorn)):\n",
    "    u1.append(results_Sinkhorn[i]['u'])\n",
    "    v1.append(results_Sinkhorn[i]['v'])\n",
    "    \n",
    "    "
   ]
  },
  {
   "attachments": {},
   "cell_type": "markdown",
   "metadata": {},
   "source": [
    "### with log-domain sinkhorn\n",
    "\n",
    "\n",
    "\n",
    "\n",
    "\n",
    "\n"
   ]
  },
  {
   "cell_type": "code",
   "execution_count": null,
   "metadata": {},
   "outputs": [],
   "source": [
    "def mina_u(H,epsilon): \n",
    "    return -epsilon*np.log( np.sum(a[:,None] * np.exp(-H/epsilon),0) )\n",
    "def minb_u(H,epsilon):\n",
    "    return -epsilon*np.log( np.sum(b[None,:] * np.exp(-H/epsilon),1) )\n",
    "\n",
    "def mina(H,epsilon): return mina_u(H-np.min(H,0),epsilon) + np.min(H,0);\n",
    "def minb(H,epsilon): return minb_u(H-np.min(H,1)[:,None],epsilon) + np.min(H,1);\n"
   ]
  },
  {
   "cell_type": "code",
   "execution_count": null,
   "metadata": {},
   "outputs": [],
   "source": [
    "def log_sinkhorn(a,b, C,epsilon,f, tol = 1e-12, niter = 500):    \n",
    "    f_list = []\n",
    "    g_list = []\n",
    "    P_list = []\n",
    "    Err = np.zeros(niter)\n",
    "    for it in range(niter):\n",
    "        g = mina(C-f[:,None],epsilon)\n",
    "        f = minb(C-g[None,:],epsilon)\n",
    "        # generate the coupling\n",
    "        P = a[:,None] * np.exp((f[:,None]+g[None,:]-C)/epsilon) * b[None,:]\n",
    "        f_list.append(f)\n",
    "        g_list.append(g)\n",
    "        P_list.append(P)\n",
    "        # check conservation of mass\n",
    "        Err[it] = np.linalg.norm(np.sum(P,0)-b,1)\n",
    "        if Err[it] < tol:\n",
    "            print(\"Terminating after iteration: \",i+1)\n",
    "            break\n",
    "    return (P_list,Err,f_list,g_list)"
   ]
  },
  {
   "cell_type": "code",
   "execution_count": null,
   "metadata": {},
   "outputs": [
    {
     "name": "stdout",
     "output_type": "stream",
     "text": [
      "Sinkhorn.... \n",
      "Sinkhorn for epsilon = 1.0:\n",
      "Doing for ( 1000 1500 ).\n",
      " |- Iterating\n",
      "Terminating after iteration:  9\n",
      "Sinkhorn for epsilon = 0.5:\n",
      "Doing for ( 1000 1500 ).\n",
      " |- Iterating\n",
      "Terminating after iteration:  9\n",
      "Sinkhorn for epsilon = 0.3:\n",
      "Doing for ( 1000 1500 ).\n",
      " |- Iterating\n",
      "Terminating after iteration:  9\n",
      "Sinkhorn for epsilon = 0.1:\n",
      "Doing for ( 1000 1500 ).\n",
      " |- Iterating\n",
      "Terminating after iteration:  9\n",
      "Sinkhorn for epsilon = 0.09:\n",
      "Doing for ( 1000 1500 ).\n",
      " |- Iterating\n",
      "Terminating after iteration:  9\n",
      "Sinkhorn for epsilon = 0.05:\n",
      "Doing for ( 1000 1500 ).\n",
      " |- Iterating\n"
     ]
    }
   ],
   "source": [
    "# Sinkhorn\n",
    "print(\"Sinkhorn.... \")\n",
    "results_logSinkhorn = []\n",
    "times_logSinkhorn = []\n",
    "epsilons = [1.0, 0.5, 0.3, 0.1, 0.09, 0.05, 0.03, 0.02,0.001]\n",
    "\n",
    "for eps in epsilons:\n",
    "\n",
    "  print( \"Sinkhorn for epsilon = \"+str(eps)+\":\" )    \n",
    "  \n",
    "  #Cost matrix\n",
    "  C = distmat(x,y)\n",
    "  \n",
    "  # a and b\n",
    "  a = normalize(np.ones(N[0]))\n",
    "  b = normalize(np.ones(N[1]))\n",
    "\n",
    "  \n",
    "\n",
    "\n",
    "\n",
    "\n",
    "\n",
    "  print( \"Doing for (\",N[0],N[1],\").\" )\n",
    "  print( \" |- Iterating\" )\n",
    "\n",
    " \n",
    "  start = time.time()\n",
    "  output = log_sinkhorn( a,b, C, eps, a, niter = 1000 )\n",
    "  results_logSinkhorn.append( output )\n",
    "  end = time.time()\n",
    "  times_logSinkhorn.append(1e-3*(end-start) )\n",
    "\n",
    "  "
   ]
  },
  {
   "cell_type": "code",
   "execution_count": null,
   "metadata": {},
   "outputs": [],
   "source": [
    "u2, v2 = [], []\n",
    "for i in range(len(results_Sinkhorn)):\n",
    "    u2.append(results_Sinkhorn[i]['u'])\n",
    "    v2.append(results_Sinkhorn[i]['v'])"
   ]
  },
  {
   "cell_type": "code",
   "execution_count": null,
   "metadata": {},
   "outputs": [],
   "source": [
    "plt.figure( figsize = (20,7) )\n",
    "plt.title( \"$$\" )\n",
    "plt.title( \"Difference between u and v with and without regularization.\" )\n",
    "difference_u = [np.linalg.norm(u1[i]-u2[i]) for i in range(len(results_DampedNewton)) ]\n",
    "difference_v = [np.linalg.norm(v1[i]-v2[i]) for i in range(len(results_DampedNewton)) ]\n",
    "plt.plot(epsilons, difference_u, label = 'difference for u', linewidth = 2, marker= 'o' )\n",
    "plt.plot(epsilons, difference_v, label = 'difference for v', linewidth = 2, marker= 'o' )\n",
    "\n",
    "\n",
    "\n",
    "\n",
    "plt.xlabel(\"$\\epsilon$\")\n",
    "plt.ylabel( \"difference in log-scale\" )\n",
    "plt.legend()\n",
    "plt.yscale( 'log' )\n",
    "plt.show()"
   ]
  },
  {
   "cell_type": "code",
   "execution_count": null,
   "metadata": {},
   "outputs": [],
   "source": []
  },
  {
   "cell_type": "code",
   "execution_count": null,
   "metadata": {},
   "outputs": [],
   "source": []
  },
  {
   "cell_type": "code",
   "execution_count": null,
   "metadata": {},
   "outputs": [],
   "source": []
  },
  {
   "cell_type": "code",
   "execution_count": null,
   "metadata": {},
   "outputs": [],
   "source": []
  },
  {
   "cell_type": "code",
   "execution_count": null,
   "metadata": {},
   "outputs": [],
   "source": []
  },
  {
   "cell_type": "code",
   "execution_count": null,
   "metadata": {},
   "outputs": [],
   "source": []
  },
  {
   "cell_type": "code",
   "execution_count": null,
   "metadata": {},
   "outputs": [],
   "source": []
  },
  {
   "cell_type": "code",
   "execution_count": null,
   "metadata": {},
   "outputs": [],
   "source": []
  },
  {
   "cell_type": "code",
   "execution_count": null,
   "metadata": {},
   "outputs": [],
   "source": []
  },
  {
   "cell_type": "code",
   "execution_count": null,
   "metadata": {},
   "outputs": [],
   "source": []
  },
  {
   "cell_type": "code",
   "execution_count": null,
   "metadata": {},
   "outputs": [],
   "source": []
  },
  {
   "cell_type": "code",
   "execution_count": null,
   "metadata": {},
   "outputs": [],
   "source": []
  },
  {
   "cell_type": "code",
   "execution_count": null,
   "metadata": {},
   "outputs": [],
   "source": []
  },
  {
   "cell_type": "code",
   "execution_count": null,
   "metadata": {},
   "outputs": [],
   "source": []
  },
  {
   "cell_type": "code",
   "execution_count": null,
   "metadata": {},
   "outputs": [],
   "source": []
  },
  {
   "cell_type": "code",
   "execution_count": null,
   "metadata": {},
   "outputs": [],
   "source": []
  },
  {
   "cell_type": "code",
   "execution_count": null,
   "metadata": {},
   "outputs": [],
   "source": []
  },
  {
   "cell_type": "code",
   "execution_count": null,
   "metadata": {},
   "outputs": [],
   "source": []
  },
  {
   "cell_type": "code",
   "execution_count": null,
   "metadata": {},
   "outputs": [],
   "source": []
  }
 ],
 "metadata": {
  "kernelspec": {
   "display_name": ".venv_computational-OT",
   "language": "python",
   "name": "python3"
  },
  "language_info": {
   "codemirror_mode": {
    "name": "ipython",
    "version": 3
   },
   "file_extension": ".py",
   "mimetype": "text/x-python",
   "name": "python",
   "nbconvert_exporter": "python",
   "pygments_lexer": "ipython3",
   "version": "3.10.6"
  },
  "orig_nbformat": 4
 },
 "nbformat": 4,
 "nbformat_minor": 2
}
